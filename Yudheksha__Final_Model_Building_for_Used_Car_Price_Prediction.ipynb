{
 "cells": [
  {
   "cell_type": "code",
   "execution_count": null,
   "metadata": {
    "id": "auv9czJWE9tj"
   },
   "outputs": [],
   "source": [
    "# Importing the necessary libraries\n",
    "import pandas as pd\n",
    "import numpy as np\n",
    "import matplotlib.pyplot as plt\n",
    "%matplotlib inline\n",
    "import seaborn as sns\n",
    "import warnings\n",
    "warnings.filterwarnings('ignore')"
   ]
  },
  {
   "cell_type": "code",
   "execution_count": null,
   "metadata": {
    "id": "rhqEU2gaE9ts"
   },
   "outputs": [],
   "source": [
    "#Reading the dataset\n",
    "df1=pd.read_csv('C:/Users/YUDHEKSHA THEEPAANJI/Downloads/technocolabs/tc20171021.csv',on_bad_lines='skip')\n",
    "df2=pd.read_csv('C:/Users/YUDHEKSHA THEEPAANJI/Downloads/technocolabs/true_car_listings.csv')"
   ]
  },
  {
   "cell_type": "markdown",
   "metadata": {
    "id": "P2H300JUE9tu"
   },
   "source": [
    "### Basic Information"
   ]
  },
  {
   "cell_type": "code",
   "execution_count": null,
   "metadata": {
    "id": "O8ATBAgeE9ty",
    "outputId": "4a78c84c-028a-4de2-9d1d-ef74331e57b2"
   },
   "outputs": [
    {
     "name": "stdout",
     "output_type": "stream",
     "text": [
      "(1216250, 9)\n",
      "(852122, 8)\n"
     ]
    }
   ],
   "source": [
    "#Checking the number of rows & columns(features) \n",
    "print(df1.shape)\n",
    "print(df2.shape)"
   ]
  },
  {
   "cell_type": "code",
   "execution_count": null,
   "metadata": {
    "id": "j7ELjgbdE9t1",
    "outputId": "0792d7de-5f8b-4c9d-81b2-bcda74859be3",
    "scrolled": true
   },
   "outputs": [
    {
     "data": {
      "text/html": [
       "<div>\n",
       "<style scoped>\n",
       "    .dataframe tbody tr th:only-of-type {\n",
       "        vertical-align: middle;\n",
       "    }\n",
       "\n",
       "    .dataframe tbody tr th {\n",
       "        vertical-align: top;\n",
       "    }\n",
       "\n",
       "    .dataframe thead th {\n",
       "        text-align: right;\n",
       "    }\n",
       "</style>\n",
       "<table border=\"1\" class=\"dataframe\">\n",
       "  <thead>\n",
       "    <tr style=\"text-align: right;\">\n",
       "      <th></th>\n",
       "      <th>Id</th>\n",
       "      <th>Price</th>\n",
       "      <th>Year</th>\n",
       "      <th>Mileage</th>\n",
       "      <th>City</th>\n",
       "      <th>State</th>\n",
       "      <th>Vin</th>\n",
       "      <th>Make</th>\n",
       "      <th>Model</th>\n",
       "    </tr>\n",
       "  </thead>\n",
       "  <tbody>\n",
       "    <tr>\n",
       "      <th>0</th>\n",
       "      <td>1</td>\n",
       "      <td>16472</td>\n",
       "      <td>2015</td>\n",
       "      <td>18681</td>\n",
       "      <td>Jefferson City</td>\n",
       "      <td>MO</td>\n",
       "      <td>KL4CJBSBXFB267643</td>\n",
       "      <td>Buick</td>\n",
       "      <td>EncoreConvenience</td>\n",
       "    </tr>\n",
       "    <tr>\n",
       "      <th>1</th>\n",
       "      <td>2</td>\n",
       "      <td>15749</td>\n",
       "      <td>2015</td>\n",
       "      <td>27592</td>\n",
       "      <td>Highland</td>\n",
       "      <td>IN</td>\n",
       "      <td>KL4CJASB5FB245057</td>\n",
       "      <td>Buick</td>\n",
       "      <td>EncoreFWD</td>\n",
       "    </tr>\n",
       "    <tr>\n",
       "      <th>2</th>\n",
       "      <td>3</td>\n",
       "      <td>16998</td>\n",
       "      <td>2015</td>\n",
       "      <td>13650</td>\n",
       "      <td>Boone</td>\n",
       "      <td>NC</td>\n",
       "      <td>KL4CJCSB0FB264921</td>\n",
       "      <td>Buick</td>\n",
       "      <td>EncoreLeather</td>\n",
       "    </tr>\n",
       "    <tr>\n",
       "      <th>3</th>\n",
       "      <td>4</td>\n",
       "      <td>15777</td>\n",
       "      <td>2015</td>\n",
       "      <td>25195</td>\n",
       "      <td>New Orleans</td>\n",
       "      <td>LA</td>\n",
       "      <td>KL4CJASB4FB217542</td>\n",
       "      <td>Buick</td>\n",
       "      <td>EncoreFWD</td>\n",
       "    </tr>\n",
       "    <tr>\n",
       "      <th>4</th>\n",
       "      <td>5</td>\n",
       "      <td>16784</td>\n",
       "      <td>2015</td>\n",
       "      <td>22800</td>\n",
       "      <td>Las Vegas</td>\n",
       "      <td>NV</td>\n",
       "      <td>KL4CJBSB3FB166881</td>\n",
       "      <td>Buick</td>\n",
       "      <td>EncoreConvenience</td>\n",
       "    </tr>\n",
       "  </tbody>\n",
       "</table>\n",
       "</div>"
      ],
      "text/plain": [
       "   Id  Price  Year  Mileage            City State                Vin   Make  \\\n",
       "0   1  16472  2015    18681  Jefferson City    MO  KL4CJBSBXFB267643  Buick   \n",
       "1   2  15749  2015    27592        Highland    IN  KL4CJASB5FB245057  Buick   \n",
       "2   3  16998  2015    13650           Boone    NC  KL4CJCSB0FB264921  Buick   \n",
       "3   4  15777  2015    25195     New Orleans    LA  KL4CJASB4FB217542  Buick   \n",
       "4   5  16784  2015    22800       Las Vegas    NV  KL4CJBSB3FB166881  Buick   \n",
       "\n",
       "               Model  \n",
       "0  EncoreConvenience  \n",
       "1          EncoreFWD  \n",
       "2      EncoreLeather  \n",
       "3          EncoreFWD  \n",
       "4  EncoreConvenience  "
      ]
     },
     "execution_count": 85,
     "metadata": {},
     "output_type": "execute_result"
    }
   ],
   "source": [
    "#Displaying the first 5 rows\n",
    "df1.head()"
   ]
  },
  {
   "cell_type": "code",
   "execution_count": null,
   "metadata": {
    "id": "QnRoTnPUE9t2",
    "outputId": "51697295-21ef-4d61-8781-bfd1d1ee219e"
   },
   "outputs": [
    {
     "data": {
      "text/html": [
       "<div>\n",
       "<style scoped>\n",
       "    .dataframe tbody tr th:only-of-type {\n",
       "        vertical-align: middle;\n",
       "    }\n",
       "\n",
       "    .dataframe tbody tr th {\n",
       "        vertical-align: top;\n",
       "    }\n",
       "\n",
       "    .dataframe thead th {\n",
       "        text-align: right;\n",
       "    }\n",
       "</style>\n",
       "<table border=\"1\" class=\"dataframe\">\n",
       "  <thead>\n",
       "    <tr style=\"text-align: right;\">\n",
       "      <th></th>\n",
       "      <th>Price</th>\n",
       "      <th>Year</th>\n",
       "      <th>Mileage</th>\n",
       "      <th>City</th>\n",
       "      <th>State</th>\n",
       "      <th>Vin</th>\n",
       "      <th>Make</th>\n",
       "      <th>Model</th>\n",
       "    </tr>\n",
       "  </thead>\n",
       "  <tbody>\n",
       "    <tr>\n",
       "      <th>0</th>\n",
       "      <td>8995</td>\n",
       "      <td>2014</td>\n",
       "      <td>35725</td>\n",
       "      <td>El Paso</td>\n",
       "      <td>TX</td>\n",
       "      <td>19VDE2E53EE000083</td>\n",
       "      <td>Acura</td>\n",
       "      <td>ILX6-Speed</td>\n",
       "    </tr>\n",
       "    <tr>\n",
       "      <th>1</th>\n",
       "      <td>10888</td>\n",
       "      <td>2013</td>\n",
       "      <td>19606</td>\n",
       "      <td>Long Island City</td>\n",
       "      <td>NY</td>\n",
       "      <td>19VDE1F52DE012636</td>\n",
       "      <td>Acura</td>\n",
       "      <td>ILX5-Speed</td>\n",
       "    </tr>\n",
       "    <tr>\n",
       "      <th>2</th>\n",
       "      <td>8995</td>\n",
       "      <td>2013</td>\n",
       "      <td>48851</td>\n",
       "      <td>El Paso</td>\n",
       "      <td>TX</td>\n",
       "      <td>19VDE2E52DE000025</td>\n",
       "      <td>Acura</td>\n",
       "      <td>ILX6-Speed</td>\n",
       "    </tr>\n",
       "    <tr>\n",
       "      <th>3</th>\n",
       "      <td>10999</td>\n",
       "      <td>2014</td>\n",
       "      <td>39922</td>\n",
       "      <td>Windsor</td>\n",
       "      <td>CO</td>\n",
       "      <td>19VDE1F71EE003817</td>\n",
       "      <td>Acura</td>\n",
       "      <td>ILX5-Speed</td>\n",
       "    </tr>\n",
       "    <tr>\n",
       "      <th>4</th>\n",
       "      <td>14799</td>\n",
       "      <td>2016</td>\n",
       "      <td>22142</td>\n",
       "      <td>Lindon</td>\n",
       "      <td>UT</td>\n",
       "      <td>19UDE2F32GA001284</td>\n",
       "      <td>Acura</td>\n",
       "      <td>ILXAutomatic</td>\n",
       "    </tr>\n",
       "  </tbody>\n",
       "</table>\n",
       "</div>"
      ],
      "text/plain": [
       "   Price  Year  Mileage              City State                Vin   Make  \\\n",
       "0   8995  2014    35725           El Paso    TX  19VDE2E53EE000083  Acura   \n",
       "1  10888  2013    19606  Long Island City    NY  19VDE1F52DE012636  Acura   \n",
       "2   8995  2013    48851           El Paso    TX  19VDE2E52DE000025  Acura   \n",
       "3  10999  2014    39922           Windsor    CO  19VDE1F71EE003817  Acura   \n",
       "4  14799  2016    22142            Lindon    UT  19UDE2F32GA001284  Acura   \n",
       "\n",
       "          Model  \n",
       "0    ILX6-Speed  \n",
       "1    ILX5-Speed  \n",
       "2    ILX6-Speed  \n",
       "3    ILX5-Speed  \n",
       "4  ILXAutomatic  "
      ]
     },
     "execution_count": 86,
     "metadata": {},
     "output_type": "execute_result"
    }
   ],
   "source": [
    "df2.head()"
   ]
  },
  {
   "cell_type": "code",
   "execution_count": null,
   "metadata": {
    "id": "ToEK4dx4E9t4"
   },
   "outputs": [],
   "source": [
    "#Drop ID column. They are all unique records and does not make any sense.\n",
    "df1.drop(columns = [\"Id\"], inplace = True)"
   ]
  },
  {
   "cell_type": "code",
   "execution_count": null,
   "metadata": {
    "id": "qq_bHrAsE9t6",
    "outputId": "13835596-4603-4899-be65-c01921012a3f",
    "scrolled": true
   },
   "outputs": [
    {
     "data": {
      "text/html": [
       "<div>\n",
       "<style scoped>\n",
       "    .dataframe tbody tr th:only-of-type {\n",
       "        vertical-align: middle;\n",
       "    }\n",
       "\n",
       "    .dataframe tbody tr th {\n",
       "        vertical-align: top;\n",
       "    }\n",
       "\n",
       "    .dataframe thead th {\n",
       "        text-align: right;\n",
       "    }\n",
       "</style>\n",
       "<table border=\"1\" class=\"dataframe\">\n",
       "  <thead>\n",
       "    <tr style=\"text-align: right;\">\n",
       "      <th></th>\n",
       "      <th>Price</th>\n",
       "      <th>Year</th>\n",
       "      <th>Mileage</th>\n",
       "      <th>City</th>\n",
       "      <th>State</th>\n",
       "      <th>Vin</th>\n",
       "      <th>Make</th>\n",
       "      <th>Model</th>\n",
       "    </tr>\n",
       "  </thead>\n",
       "  <tbody>\n",
       "    <tr>\n",
       "      <th>0</th>\n",
       "      <td>16472</td>\n",
       "      <td>2015</td>\n",
       "      <td>18681</td>\n",
       "      <td>Jefferson City</td>\n",
       "      <td>MO</td>\n",
       "      <td>KL4CJBSBXFB267643</td>\n",
       "      <td>Buick</td>\n",
       "      <td>EncoreConvenience</td>\n",
       "    </tr>\n",
       "    <tr>\n",
       "      <th>1</th>\n",
       "      <td>15749</td>\n",
       "      <td>2015</td>\n",
       "      <td>27592</td>\n",
       "      <td>Highland</td>\n",
       "      <td>IN</td>\n",
       "      <td>KL4CJASB5FB245057</td>\n",
       "      <td>Buick</td>\n",
       "      <td>EncoreFWD</td>\n",
       "    </tr>\n",
       "    <tr>\n",
       "      <th>2</th>\n",
       "      <td>16998</td>\n",
       "      <td>2015</td>\n",
       "      <td>13650</td>\n",
       "      <td>Boone</td>\n",
       "      <td>NC</td>\n",
       "      <td>KL4CJCSB0FB264921</td>\n",
       "      <td>Buick</td>\n",
       "      <td>EncoreLeather</td>\n",
       "    </tr>\n",
       "    <tr>\n",
       "      <th>3</th>\n",
       "      <td>15777</td>\n",
       "      <td>2015</td>\n",
       "      <td>25195</td>\n",
       "      <td>New Orleans</td>\n",
       "      <td>LA</td>\n",
       "      <td>KL4CJASB4FB217542</td>\n",
       "      <td>Buick</td>\n",
       "      <td>EncoreFWD</td>\n",
       "    </tr>\n",
       "    <tr>\n",
       "      <th>4</th>\n",
       "      <td>16784</td>\n",
       "      <td>2015</td>\n",
       "      <td>22800</td>\n",
       "      <td>Las Vegas</td>\n",
       "      <td>NV</td>\n",
       "      <td>KL4CJBSB3FB166881</td>\n",
       "      <td>Buick</td>\n",
       "      <td>EncoreConvenience</td>\n",
       "    </tr>\n",
       "  </tbody>\n",
       "</table>\n",
       "</div>"
      ],
      "text/plain": [
       "   Price  Year  Mileage            City State                Vin   Make  \\\n",
       "0  16472  2015    18681  Jefferson City    MO  KL4CJBSBXFB267643  Buick   \n",
       "1  15749  2015    27592        Highland    IN  KL4CJASB5FB245057  Buick   \n",
       "2  16998  2015    13650           Boone    NC  KL4CJCSB0FB264921  Buick   \n",
       "3  15777  2015    25195     New Orleans    LA  KL4CJASB4FB217542  Buick   \n",
       "4  16784  2015    22800       Las Vegas    NV  KL4CJBSB3FB166881  Buick   \n",
       "\n",
       "               Model  \n",
       "0  EncoreConvenience  \n",
       "1          EncoreFWD  \n",
       "2      EncoreLeather  \n",
       "3          EncoreFWD  \n",
       "4  EncoreConvenience  "
      ]
     },
     "execution_count": 88,
     "metadata": {},
     "output_type": "execute_result"
    }
   ],
   "source": [
    "df1.head()"
   ]
  },
  {
   "cell_type": "code",
   "execution_count": null,
   "metadata": {
    "id": "_f4u00rAE9t8"
   },
   "outputs": [],
   "source": [
    "#Merging the two datasets\n",
    "df = pd.concat([df1, df2], ignore_index=True)"
   ]
  },
  {
   "cell_type": "code",
   "execution_count": null,
   "metadata": {
    "id": "hh-4IihBE9t9",
    "outputId": "0aeb6f4b-bc33-4264-d570-bdef302338c1"
   },
   "outputs": [
    {
     "data": {
      "text/plain": [
       "(2068372, 8)"
      ]
     },
     "execution_count": 90,
     "metadata": {},
     "output_type": "execute_result"
    }
   ],
   "source": [
    "df.shape"
   ]
  },
  {
   "cell_type": "code",
   "execution_count": null,
   "metadata": {
    "id": "kLph3ZFbE9t-",
    "outputId": "3db0d035-6a8c-404e-f548-53361b91c43f",
    "scrolled": true
   },
   "outputs": [
    {
     "data": {
      "text/html": [
       "<div>\n",
       "<style scoped>\n",
       "    .dataframe tbody tr th:only-of-type {\n",
       "        vertical-align: middle;\n",
       "    }\n",
       "\n",
       "    .dataframe tbody tr th {\n",
       "        vertical-align: top;\n",
       "    }\n",
       "\n",
       "    .dataframe thead th {\n",
       "        text-align: right;\n",
       "    }\n",
       "</style>\n",
       "<table border=\"1\" class=\"dataframe\">\n",
       "  <thead>\n",
       "    <tr style=\"text-align: right;\">\n",
       "      <th></th>\n",
       "      <th>Price</th>\n",
       "      <th>Year</th>\n",
       "      <th>Mileage</th>\n",
       "      <th>City</th>\n",
       "      <th>State</th>\n",
       "      <th>Vin</th>\n",
       "      <th>Make</th>\n",
       "      <th>Model</th>\n",
       "    </tr>\n",
       "  </thead>\n",
       "  <tbody>\n",
       "    <tr>\n",
       "      <th>0</th>\n",
       "      <td>16472</td>\n",
       "      <td>2015</td>\n",
       "      <td>18681</td>\n",
       "      <td>Jefferson City</td>\n",
       "      <td>MO</td>\n",
       "      <td>KL4CJBSBXFB267643</td>\n",
       "      <td>Buick</td>\n",
       "      <td>EncoreConvenience</td>\n",
       "    </tr>\n",
       "    <tr>\n",
       "      <th>1</th>\n",
       "      <td>15749</td>\n",
       "      <td>2015</td>\n",
       "      <td>27592</td>\n",
       "      <td>Highland</td>\n",
       "      <td>IN</td>\n",
       "      <td>KL4CJASB5FB245057</td>\n",
       "      <td>Buick</td>\n",
       "      <td>EncoreFWD</td>\n",
       "    </tr>\n",
       "    <tr>\n",
       "      <th>2</th>\n",
       "      <td>16998</td>\n",
       "      <td>2015</td>\n",
       "      <td>13650</td>\n",
       "      <td>Boone</td>\n",
       "      <td>NC</td>\n",
       "      <td>KL4CJCSB0FB264921</td>\n",
       "      <td>Buick</td>\n",
       "      <td>EncoreLeather</td>\n",
       "    </tr>\n",
       "    <tr>\n",
       "      <th>3</th>\n",
       "      <td>15777</td>\n",
       "      <td>2015</td>\n",
       "      <td>25195</td>\n",
       "      <td>New Orleans</td>\n",
       "      <td>LA</td>\n",
       "      <td>KL4CJASB4FB217542</td>\n",
       "      <td>Buick</td>\n",
       "      <td>EncoreFWD</td>\n",
       "    </tr>\n",
       "    <tr>\n",
       "      <th>4</th>\n",
       "      <td>16784</td>\n",
       "      <td>2015</td>\n",
       "      <td>22800</td>\n",
       "      <td>Las Vegas</td>\n",
       "      <td>NV</td>\n",
       "      <td>KL4CJBSB3FB166881</td>\n",
       "      <td>Buick</td>\n",
       "      <td>EncoreConvenience</td>\n",
       "    </tr>\n",
       "  </tbody>\n",
       "</table>\n",
       "</div>"
      ],
      "text/plain": [
       "   Price  Year  Mileage            City State                Vin   Make  \\\n",
       "0  16472  2015    18681  Jefferson City    MO  KL4CJBSBXFB267643  Buick   \n",
       "1  15749  2015    27592        Highland    IN  KL4CJASB5FB245057  Buick   \n",
       "2  16998  2015    13650           Boone    NC  KL4CJCSB0FB264921  Buick   \n",
       "3  15777  2015    25195     New Orleans    LA  KL4CJASB4FB217542  Buick   \n",
       "4  16784  2015    22800       Las Vegas    NV  KL4CJBSB3FB166881  Buick   \n",
       "\n",
       "               Model  \n",
       "0  EncoreConvenience  \n",
       "1          EncoreFWD  \n",
       "2      EncoreLeather  \n",
       "3          EncoreFWD  \n",
       "4  EncoreConvenience  "
      ]
     },
     "execution_count": 91,
     "metadata": {},
     "output_type": "execute_result"
    }
   ],
   "source": [
    "df.head()"
   ]
  },
  {
   "cell_type": "code",
   "execution_count": null,
   "metadata": {
    "id": "u5f9ATvDE9uA",
    "outputId": "f06eac72-f6a4-4af9-9b0e-2f343b479737"
   },
   "outputs": [
    {
     "name": "stdout",
     "output_type": "stream",
     "text": [
      "<class 'pandas.core.frame.DataFrame'>\n",
      "RangeIndex: 2068372 entries, 0 to 2068371\n",
      "Data columns (total 8 columns):\n",
      " #   Column   Dtype \n",
      "---  ------   ----- \n",
      " 0   Price    int64 \n",
      " 1   Year     int64 \n",
      " 2   Mileage  int64 \n",
      " 3   City     object\n",
      " 4   State    object\n",
      " 5   Vin      object\n",
      " 6   Make     object\n",
      " 7   Model    object\n",
      "dtypes: int64(3), object(5)\n",
      "memory usage: 126.2+ MB\n"
     ]
    }
   ],
   "source": [
    "#Displaying each variable information\n",
    "df.info()"
   ]
  },
  {
   "cell_type": "code",
   "execution_count": null,
   "metadata": {
    "id": "HhEe-SBaE9uB",
    "outputId": "71a55221-16c3-40fb-b9eb-60a2bd8344ef",
    "scrolled": false
   },
   "outputs": [
    {
     "data": {
      "text/html": [
       "<div>\n",
       "<style scoped>\n",
       "    .dataframe tbody tr th:only-of-type {\n",
       "        vertical-align: middle;\n",
       "    }\n",
       "\n",
       "    .dataframe tbody tr th {\n",
       "        vertical-align: top;\n",
       "    }\n",
       "\n",
       "    .dataframe thead th {\n",
       "        text-align: right;\n",
       "    }\n",
       "</style>\n",
       "<table border=\"1\" class=\"dataframe\">\n",
       "  <thead>\n",
       "    <tr style=\"text-align: right;\">\n",
       "      <th></th>\n",
       "      <th>Price</th>\n",
       "      <th>Year</th>\n",
       "      <th>Mileage</th>\n",
       "    </tr>\n",
       "  </thead>\n",
       "  <tbody>\n",
       "    <tr>\n",
       "      <th>count</th>\n",
       "      <td>2.068372e+06</td>\n",
       "      <td>2.068372e+06</td>\n",
       "      <td>2.068372e+06</td>\n",
       "    </tr>\n",
       "    <tr>\n",
       "      <th>mean</th>\n",
       "      <td>2.117289e+04</td>\n",
       "      <td>2.013300e+03</td>\n",
       "      <td>5.274318e+04</td>\n",
       "    </tr>\n",
       "    <tr>\n",
       "      <th>std</th>\n",
       "      <td>1.334331e+04</td>\n",
       "      <td>3.430814e+00</td>\n",
       "      <td>6.836142e+04</td>\n",
       "    </tr>\n",
       "    <tr>\n",
       "      <th>min</th>\n",
       "      <td>1.500000e+03</td>\n",
       "      <td>1.997000e+03</td>\n",
       "      <td>5.000000e+00</td>\n",
       "    </tr>\n",
       "    <tr>\n",
       "      <th>25%</th>\n",
       "      <td>1.299500e+04</td>\n",
       "      <td>2.012000e+03</td>\n",
       "      <td>2.391000e+04</td>\n",
       "    </tr>\n",
       "    <tr>\n",
       "      <th>50%</th>\n",
       "      <td>1.800000e+04</td>\n",
       "      <td>2.014000e+03</td>\n",
       "      <td>4.042300e+04</td>\n",
       "    </tr>\n",
       "    <tr>\n",
       "      <th>75%</th>\n",
       "      <td>2.681700e+04</td>\n",
       "      <td>2.016000e+03</td>\n",
       "      <td>7.250400e+04</td>\n",
       "    </tr>\n",
       "    <tr>\n",
       "      <th>max</th>\n",
       "      <td>4.995000e+05</td>\n",
       "      <td>2.018000e+03</td>\n",
       "      <td>7.758776e+07</td>\n",
       "    </tr>\n",
       "  </tbody>\n",
       "</table>\n",
       "</div>"
      ],
      "text/plain": [
       "              Price          Year       Mileage\n",
       "count  2.068372e+06  2.068372e+06  2.068372e+06\n",
       "mean   2.117289e+04  2.013300e+03  5.274318e+04\n",
       "std    1.334331e+04  3.430814e+00  6.836142e+04\n",
       "min    1.500000e+03  1.997000e+03  5.000000e+00\n",
       "25%    1.299500e+04  2.012000e+03  2.391000e+04\n",
       "50%    1.800000e+04  2.014000e+03  4.042300e+04\n",
       "75%    2.681700e+04  2.016000e+03  7.250400e+04\n",
       "max    4.995000e+05  2.018000e+03  7.758776e+07"
      ]
     },
     "execution_count": 93,
     "metadata": {},
     "output_type": "execute_result"
    }
   ],
   "source": [
    "#Displaying the five-number summary \n",
    "df.describe()"
   ]
  },
  {
   "cell_type": "markdown",
   "metadata": {
    "id": "eygZjo1FE9uC"
   },
   "source": [
    "### Checking the missing values"
   ]
  },
  {
   "cell_type": "code",
   "execution_count": null,
   "metadata": {
    "id": "4Gd1P3cyE9uD",
    "outputId": "534bfda8-7ca7-4845-aa9b-9c0a8b39d9f7",
    "scrolled": false
   },
   "outputs": [
    {
     "data": {
      "text/plain": [
       "Price      0\n",
       "Year       0\n",
       "Mileage    0\n",
       "City       0\n",
       "State      0\n",
       "Vin        0\n",
       "Make       0\n",
       "Model      0\n",
       "dtype: int64"
      ]
     },
     "execution_count": 94,
     "metadata": {},
     "output_type": "execute_result"
    }
   ],
   "source": [
    "df.isnull().sum()"
   ]
  },
  {
   "cell_type": "markdown",
   "metadata": {
    "id": "gZvrWJr-E9uE",
    "scrolled": true
   },
   "source": [
    "There is no missing values present in this dataset."
   ]
  },
  {
   "cell_type": "code",
   "execution_count": null,
   "metadata": {
    "id": "WJ2ZCdu0E9uF",
    "outputId": "934b4eb3-fd1e-4c7d-a26f-0356c0337496"
   },
   "outputs": [
    {
     "data": {
      "text/plain": [
       "Index(['Price', 'Year', 'Mileage', 'City', 'State', 'Vin', 'Make', 'Model'], dtype='object')"
      ]
     },
     "execution_count": 95,
     "metadata": {},
     "output_type": "execute_result"
    }
   ],
   "source": [
    "df.columns"
   ]
  },
  {
   "cell_type": "markdown",
   "metadata": {
    "id": "5LCDu-FwE9uG"
   },
   "source": [
    "## Exploratory Data Analysis"
   ]
  },
  {
   "cell_type": "markdown",
   "metadata": {
    "id": "Uv05llscE9uG"
   },
   "source": [
    "## Univariate Analysis -Analyzing the numerical Features"
   ]
  },
  {
   "cell_type": "markdown",
   "metadata": {
    "id": "M2xCIjy0E9uH"
   },
   "source": [
    "### Year"
   ]
  },
  {
   "cell_type": "code",
   "execution_count": null,
   "metadata": {
    "id": "ZcMi62i6E9uI",
    "outputId": "9c7deaf0-e0f3-42e5-9297-d23f8f943429"
   },
   "outputs": [
    {
     "data": {
      "text/plain": [
       "22"
      ]
     },
     "execution_count": 96,
     "metadata": {},
     "output_type": "execute_result"
    }
   ],
   "source": [
    "df['Year'].value_counts().count()"
   ]
  },
  {
   "cell_type": "code",
   "execution_count": null,
   "metadata": {
    "id": "o_OII5oAE9uI",
    "outputId": "c72883b8-7c49-4acd-b334-b1d3ff90eb1d"
   },
   "outputs": [
    {
     "data": {
      "text/plain": [
       "2015    381936\n",
       "2014    380507\n",
       "2016    321236\n",
       "2017    233846\n",
       "2013    178913\n",
       "Name: Year, dtype: int64"
      ]
     },
     "execution_count": 97,
     "metadata": {},
     "output_type": "execute_result"
    }
   ],
   "source": [
    "df['Year'].value_counts().head()"
   ]
  },
  {
   "cell_type": "code",
   "execution_count": null,
   "metadata": {
    "id": "ca0m-dk0E9uJ",
    "outputId": "2e6a5cb2-6bec-4dd4-bfc7-434626d06d12"
   },
   "outputs": [
    {
     "data": {
      "image/png": "[encoded data removed]",
      "text/plain": [
       "<Figure size 432x360 with 1 Axes>"
      ]
     },
     "metadata": {},
     "output_type": "display_data"
    }
   ],
   "source": [
    "plt.figure(figsize=(6,5))\n",
    "plt.title('Year')\n",
    "sns.boxplot(df.Year,color=\"orange\")\n",
    "plt.show()"
   ]
  },
  {
   "cell_type": "code",
   "execution_count": null,
   "metadata": {
    "id": "eUpzzhIrE9uK",
    "outputId": "c73824d8-6fbe-4388-b27c-3b1fbd0d8bec",
    "scrolled": true
   },
   "outputs": [
    {
     "data": {
      "image/png": "[encoded data removed]",
      "text/plain": [
       "<Figure size 432x288 with 1 Axes>"
      ]
     },
     "metadata": {},
     "output_type": "display_data"
    }
   ],
   "source": [
    "hist,ax=plt.subplots()\n",
    "ax = sns.distplot(df['Year'],kde=False)    #only histogram display\n",
    "ax.set_title('Histogram for Year')\n",
    "plt.show()"
   ]
  },
  {
   "cell_type": "code",
   "execution_count": null,
   "metadata": {
    "id": "a-hlOdszE9uK",
    "outputId": "05a13a81-295f-4040-d5dc-f0944ecfb1bf"
   },
   "outputs": [
    {
     "data": {
      "image/png": "[encoded data removed]",
      "text/plain": [
       "<Figure size 432x288 with 1 Axes>"
      ]
     },
     "metadata": {},
     "output_type": "display_data"
    }
   ],
   "source": [
    "fig = plt.figure()\n",
    "axes1=fig.add_subplot(1,1,1)\n",
    "axes1.hist(df['Year'],bins = 10)\n",
    "axes1.set_title('Histogram for Year')\n",
    "fig.show()"
   ]
  },
  {
   "cell_type": "markdown",
   "metadata": {
    "id": "WoaG2AbiE9uL"
   },
   "source": [
    "## Mileage"
   ]
  },
  {
   "cell_type": "code",
   "execution_count": null,
   "metadata": {
    "id": "GkeLZozcE9uL",
    "outputId": "f7166fb8-1981-4d80-e817-92251cb0e477"
   },
   "outputs": [
    {
     "data": {
      "image/png": "[encoded data removed]",
      "text/plain": [
       "<Figure size 432x360 with 1 Axes>"
      ]
     },
     "metadata": {},
     "output_type": "display_data"
    }
   ],
   "source": [
    "plt.figure(figsize=(6,5))\n",
    "plt.title('Mileage')\n",
    "sns.boxplot(df.Mileage,color=\"orange\")\n",
    "plt.show()"
   ]
  },
  {
   "cell_type": "code",
   "execution_count": null,
   "metadata": {
    "id": "pDGmpjvFE9uL",
    "outputId": "7e5c4905-fd02-486d-fbcc-cd0e984d8d51"
   },
   "outputs": [
    {
     "data": {
      "image/png": "[encoded data removed]",
      "text/plain": [
       "<Figure size 432x288 with 1 Axes>"
      ]
     },
     "metadata": {},
     "output_type": "display_data"
    }
   ],
   "source": [
    "sns.distplot(df['Mileage']);\n",
    "plt.xlabel('Mileage')\n",
    "plt.ylabel('Density')\n",
    "plt.show()"
   ]
  },
  {
   "cell_type": "code",
   "execution_count": null,
   "metadata": {
    "id": "2b676e6a"
   },
   "outputs": [],
   "source": [
    "# Removig outliers in milage columns using the 1.5 inter quartile range\n",
    "mile_iqr    = (df[\"Mileage\"].describe()[\"75%\"] - df[\"Mileage\"].describe()[\"25%\"])\n",
    "mile_iqr_15 = 1.5*mile_iqr\n",
    "mile_iqr_3  = 3*mile_iqr\n",
    "# Inner and outer  Lower fences:\n",
    "lower_inner = df[\"Mileage\"].describe()[\"25%\"] - mile_iqr_15\n",
    "lower_outer = df[\"Mileage\"].describe()[\"25%\"] - mile_iqr_3\n",
    "# Inner and outer  Upper fences:\n",
    "upper_inner = df[\"Mileage\"].describe()[\"75%\"] + mile_iqr_15\n",
    "upper_outer = df[\"Mileage\"].describe()[\"75%\"] + mile_iqr_3\n",
    "# Severe Outlies are those points which not between the two outer:"
   ]
  },
  {
   "cell_type": "code",
   "execution_count": null,
   "metadata": {
    "id": "bb0a131c"
   },
   "outputs": [],
   "source": [
    "otliers_index = df[(df[\"Mileage\"] <= lower_outer) | (df[\"Mileage\"] >= upper_outer)].index"
   ]
  },
  {
   "cell_type": "code",
   "execution_count": null,
   "metadata": {
    "id": "08c170e0"
   },
   "outputs": [],
   "source": [
    "df.drop(otliers_index, inplace = True)"
   ]
  },
  {
   "cell_type": "code",
   "execution_count": null,
   "metadata": {
    "id": "d8f89538",
    "outputId": "6fa01523-09d7-41b0-b70d-e116929bfce8"
   },
   "outputs": [
    {
     "data": {
      "text/html": [
       "<div>\n",
       "<style scoped>\n",
       "    .dataframe tbody tr th:only-of-type {\n",
       "        vertical-align: middle;\n",
       "    }\n",
       "\n",
       "    .dataframe tbody tr th {\n",
       "        vertical-align: top;\n",
       "    }\n",
       "\n",
       "    .dataframe thead th {\n",
       "        text-align: right;\n",
       "    }\n",
       "</style>\n",
       "<table border=\"1\" class=\"dataframe\">\n",
       "  <thead>\n",
       "    <tr style=\"text-align: right;\">\n",
       "      <th></th>\n",
       "      <th>Price</th>\n",
       "      <th>Year</th>\n",
       "      <th>Mileage</th>\n",
       "      <th>City</th>\n",
       "      <th>State</th>\n",
       "      <th>Vin</th>\n",
       "      <th>Make</th>\n",
       "      <th>Model</th>\n",
       "    </tr>\n",
       "  </thead>\n",
       "  <tbody>\n",
       "    <tr>\n",
       "      <th>0</th>\n",
       "      <td>16472</td>\n",
       "      <td>2015</td>\n",
       "      <td>18681</td>\n",
       "      <td>Jefferson City</td>\n",
       "      <td>MO</td>\n",
       "      <td>KL4CJBSBXFB267643</td>\n",
       "      <td>Buick</td>\n",
       "      <td>EncoreConvenience</td>\n",
       "    </tr>\n",
       "    <tr>\n",
       "      <th>1</th>\n",
       "      <td>15749</td>\n",
       "      <td>2015</td>\n",
       "      <td>27592</td>\n",
       "      <td>Highland</td>\n",
       "      <td>IN</td>\n",
       "      <td>KL4CJASB5FB245057</td>\n",
       "      <td>Buick</td>\n",
       "      <td>EncoreFWD</td>\n",
       "    </tr>\n",
       "    <tr>\n",
       "      <th>2</th>\n",
       "      <td>16998</td>\n",
       "      <td>2015</td>\n",
       "      <td>13650</td>\n",
       "      <td>Boone</td>\n",
       "      <td>NC</td>\n",
       "      <td>KL4CJCSB0FB264921</td>\n",
       "      <td>Buick</td>\n",
       "      <td>EncoreLeather</td>\n",
       "    </tr>\n",
       "    <tr>\n",
       "      <th>3</th>\n",
       "      <td>15777</td>\n",
       "      <td>2015</td>\n",
       "      <td>25195</td>\n",
       "      <td>New Orleans</td>\n",
       "      <td>LA</td>\n",
       "      <td>KL4CJASB4FB217542</td>\n",
       "      <td>Buick</td>\n",
       "      <td>EncoreFWD</td>\n",
       "    </tr>\n",
       "    <tr>\n",
       "      <th>4</th>\n",
       "      <td>16784</td>\n",
       "      <td>2015</td>\n",
       "      <td>22800</td>\n",
       "      <td>Las Vegas</td>\n",
       "      <td>NV</td>\n",
       "      <td>KL4CJBSB3FB166881</td>\n",
       "      <td>Buick</td>\n",
       "      <td>EncoreConvenience</td>\n",
       "    </tr>\n",
       "    <tr>\n",
       "      <th>...</th>\n",
       "      <td>...</td>\n",
       "      <td>...</td>\n",
       "      <td>...</td>\n",
       "      <td>...</td>\n",
       "      <td>...</td>\n",
       "      <td>...</td>\n",
       "      <td>...</td>\n",
       "      <td>...</td>\n",
       "    </tr>\n",
       "    <tr>\n",
       "      <th>2068367</th>\n",
       "      <td>63215</td>\n",
       "      <td>2017</td>\n",
       "      <td>9</td>\n",
       "      <td>Culver City</td>\n",
       "      <td>CA</td>\n",
       "      <td>YV1A22MK9H1013237</td>\n",
       "      <td>Volvo</td>\n",
       "      <td>S90T6</td>\n",
       "    </tr>\n",
       "    <tr>\n",
       "      <th>2068368</th>\n",
       "      <td>72260</td>\n",
       "      <td>2017</td>\n",
       "      <td>3201</td>\n",
       "      <td>Englewood</td>\n",
       "      <td>NJ</td>\n",
       "      <td>YV4A22PL3H1186162</td>\n",
       "      <td>Volvo</td>\n",
       "      <td>XC90T6</td>\n",
       "    </tr>\n",
       "    <tr>\n",
       "      <th>2068369</th>\n",
       "      <td>55999</td>\n",
       "      <td>2016</td>\n",
       "      <td>28941</td>\n",
       "      <td>Fort Collins</td>\n",
       "      <td>CO</td>\n",
       "      <td>YV4A22PL4G1000868</td>\n",
       "      <td>Volvo</td>\n",
       "      <td>XC90AWD</td>\n",
       "    </tr>\n",
       "    <tr>\n",
       "      <th>2068370</th>\n",
       "      <td>60240</td>\n",
       "      <td>2017</td>\n",
       "      <td>3005</td>\n",
       "      <td>San Leandro</td>\n",
       "      <td>CA</td>\n",
       "      <td>YV4A22NLXH1006162</td>\n",
       "      <td>Volvo</td>\n",
       "      <td>V90</td>\n",
       "    </tr>\n",
       "    <tr>\n",
       "      <th>2068371</th>\n",
       "      <td>76995</td>\n",
       "      <td>2017</td>\n",
       "      <td>2502</td>\n",
       "      <td>New York</td>\n",
       "      <td>NY</td>\n",
       "      <td>YV4BC0ZX1H1109845</td>\n",
       "      <td>Volvo</td>\n",
       "      <td>XC90T8</td>\n",
       "    </tr>\n",
       "  </tbody>\n",
       "</table>\n",
       "<p>2060491 rows × 8 columns</p>\n",
       "</div>"
      ],
      "text/plain": [
       "         Price  Year  Mileage            City State                Vin   Make  \\\n",
       "0        16472  2015    18681  Jefferson City    MO  KL4CJBSBXFB267643  Buick   \n",
       "1        15749  2015    27592        Highland    IN  KL4CJASB5FB245057  Buick   \n",
       "2        16998  2015    13650           Boone    NC  KL4CJCSB0FB264921  Buick   \n",
       "3        15777  2015    25195     New Orleans    LA  KL4CJASB4FB217542  Buick   \n",
       "4        16784  2015    22800       Las Vegas    NV  KL4CJBSB3FB166881  Buick   \n",
       "...        ...   ...      ...             ...   ...                ...    ...   \n",
       "2068367  63215  2017        9     Culver City    CA  YV1A22MK9H1013237  Volvo   \n",
       "2068368  72260  2017     3201       Englewood    NJ  YV4A22PL3H1186162  Volvo   \n",
       "2068369  55999  2016    28941    Fort Collins    CO  YV4A22PL4G1000868  Volvo   \n",
       "2068370  60240  2017     3005     San Leandro    CA  YV4A22NLXH1006162  Volvo   \n",
       "2068371  76995  2017     2502        New York    NY  YV4BC0ZX1H1109845  Volvo   \n",
       "\n",
       "                     Model  \n",
       "0        EncoreConvenience  \n",
       "1                EncoreFWD  \n",
       "2            EncoreLeather  \n",
       "3                EncoreFWD  \n",
       "4        EncoreConvenience  \n",
       "...                    ...  \n",
       "2068367              S90T6  \n",
       "2068368             XC90T6  \n",
       "2068369            XC90AWD  \n",
       "2068370                V90  \n",
       "2068371             XC90T8  \n",
       "\n",
       "[2060491 rows x 8 columns]"
      ]
     },
     "execution_count": 106,
     "metadata": {},
     "output_type": "execute_result"
    }
   ],
   "source": [
    "df.head()"
   ]
  },
  {
   "cell_type": "code",
   "execution_count": null,
   "metadata": {
    "id": "wy7axf1OE9uN",
    "outputId": "4f93d313-5db2-4a32-c35d-123685672359"
   },
   "outputs": [
    {
     "data": {
      "image/png": "[encoded data removed]",
      "text/plain": [
       "<Figure size 432x360 with 1 Axes>"
      ]
     },
     "metadata": {},
     "output_type": "display_data"
    }
   ],
   "source": [
    "plt.figure(figsize=(6,5))\n",
    "plt.title('Mileage')\n",
    "sns.boxplot(df.Mileage,color=\"orange\")\n",
    "plt.show()"
   ]
  },
  {
   "cell_type": "markdown",
   "metadata": {
    "id": "7MjOS5DaE9uO"
   },
   "source": [
    "### Price"
   ]
  },
  {
   "cell_type": "code",
   "execution_count": null,
   "metadata": {
    "id": "5NBbvyiME9uO",
    "outputId": "856ed808-7aa1-4a74-9d90-6fc53c6dfe31",
    "scrolled": false
   },
   "outputs": [
    {
     "data": {
      "image/png": "[encoded data removed]",
      "text/plain": [
       "<Figure size 432x360 with 1 Axes>"
      ]
     },
     "metadata": {},
     "output_type": "display_data"
    }
   ],
   "source": [
    "plt.figure(figsize=(6,5))\n",
    "plt.title('Car Price')\n",
    "sns.boxplot(df.Price,color=\"orange\")\n",
    "plt.show()"
   ]
  },
  {
   "cell_type": "code",
   "execution_count": null,
   "metadata": {
    "id": "PaByE1IhE9uO",
    "outputId": "f868a6f5-229a-4545-a7e4-e9312a3e1729"
   },
   "outputs": [
    {
     "data": {
      "image/png": "[encoded data removed]",
      "text/plain": [
       "<Figure size 432x288 with 1 Axes>"
      ]
     },
     "metadata": {},
     "output_type": "display_data"
    }
   ],
   "source": [
    "hist,ax=plt.subplots()\n",
    "ax = sns.distplot(df['Price'],kde=False)    #only histogram display\n",
    "ax.set_title('Histogram for car price')\n",
    "fig.show()"
   ]
  },
  {
   "cell_type": "code",
   "execution_count": null,
   "metadata": {
    "id": "UkvZN0aPE9uP",
    "outputId": "b386b7ba-2b1d-4c17-a4f0-eca73dfc93bf"
   },
   "outputs": [
    {
     "data": {
      "image/png": "[encoded data removed]",
      "text/plain": [
       "<Figure size 432x288 with 1 Axes>"
      ]
     },
     "metadata": {},
     "output_type": "display_data"
    }
   ],
   "source": [
    "fig = plt.figure()\n",
    "axes1=fig.add_subplot(1,1,1)\n",
    "axes1.hist(df['Price'],bins = 10)\n",
    "axes1.set_title('Histogram for car price')\n",
    "fig.show()"
   ]
  },
  {
   "cell_type": "code",
   "execution_count": null,
   "metadata": {
    "id": "LzOQircXE9uP",
    "outputId": "f037dd76-e44f-441d-f86d-83a978095281"
   },
   "outputs": [
    {
     "data": {
      "text/plain": [
       "Text(0.5, 1.0, ' car price')"
      ]
     },
     "execution_count": 111,
     "metadata": {},
     "output_type": "execute_result"
    },
    {
     "data": {
      "image/png": "[encoded data removed]",
      "text/plain": [
       "<Figure size 432x288 with 1 Axes>"
      ]
     },
     "metadata": {},
     "output_type": "display_data"
    }
   ],
   "source": [
    "#Histogram\n",
    "hist,ax=plt.subplots()\n",
    "ax = sns.distplot(df['Price'])\n",
    "ax.set_title(' car price')"
   ]
  },
  {
   "cell_type": "markdown",
   "metadata": {
    "id": "86V7ZIXoE9uQ"
   },
   "source": [
    "- <b>For The Prices Column:</b>\n",
    "It seams that most of the prices are between 0 and 100k dollars which is reasonable as they have to be cheper than the new cars.\n",
    "- <b>For the Year Column: </b>\n",
    "Most of the cars that was offered in the website is manufactured between the year of 2006 and 2018 but there some care are older than that, so we expect their behavior to be slightly different form those relatively new cars.\n",
    "- <b> For the Mileage Column: </b>\n",
    "We can expect that there some correlation between the column of Year and the column of Mileage but from the above figures it appears that there some cars that has very large mileage so we can consider these as outliers and the next step is to handle this issue."
   ]
  },
  {
   "cell_type": "markdown",
   "metadata": {
    "id": "QZljHn4nE9uR"
   },
   "source": [
    "## Univariate Analysis - Analyzing the categorical variables"
   ]
  },
  {
   "cell_type": "markdown",
   "metadata": {
    "id": "GpisBKiBE9uR"
   },
   "source": [
    "### City"
   ]
  },
  {
   "cell_type": "code",
   "execution_count": null,
   "metadata": {
    "id": "aXCNTt5zE9uR",
    "outputId": "6d9aa22f-4560-4ef6-ed40-caaebce9b6c4"
   },
   "outputs": [
    {
     "data": {
      "text/plain": [
       "2599"
      ]
     },
     "execution_count": 112,
     "metadata": {},
     "output_type": "execute_result"
    }
   ],
   "source": [
    "df['City'].value_counts().count()"
   ]
  },
  {
   "cell_type": "code",
   "execution_count": null,
   "metadata": {
    "id": "qQD57FpxE9uS",
    "outputId": "2b73288d-6c01-45d6-ac0b-1b97dce49e89"
   },
   "outputs": [
    {
     "data": {
      "text/plain": [
       "array(['Jefferson City', 'Highland', 'Boone', ..., 'Northfield',\n",
       "       'Huntington Valley', 'Winslow'], dtype=object)"
      ]
     },
     "execution_count": 113,
     "metadata": {},
     "output_type": "execute_result"
    }
   ],
   "source": [
    "df['City'].unique()"
   ]
  },
  {
   "cell_type": "code",
   "execution_count": null,
   "metadata": {
    "id": "vueIz03LE9uS",
    "outputId": "90c49e1b-aac5-4573-f7fa-7be692d813aa"
   },
   "outputs": [
    {
     "data": {
      "text/plain": [
       "Houston         32923\n",
       "San Antonio     19654\n",
       "Louisville      15212\n",
       "Jacksonville    13774\n",
       "Austin          13127\n",
       "                ...  \n",
       "Armona              8\n",
       "Port Jervis         8\n",
       "Los Banos           8\n",
       "Royston             4\n",
       "Eminence            1\n",
       "Name: City, Length: 2599, dtype: int64"
      ]
     },
     "execution_count": 114,
     "metadata": {},
     "output_type": "execute_result"
    }
   ],
   "source": [
    "df['City'].value_counts()"
   ]
  },
  {
   "cell_type": "markdown",
   "metadata": {
    "id": "W350U2igE9uT"
   },
   "source": [
    "There are 2599 different cities present in these dataset.So, we cannot display the all cities through graph."
   ]
  },
  {
   "cell_type": "code",
   "execution_count": null,
   "metadata": {
    "id": "IIN87X7sE9uT",
    "outputId": "e8b7cc8c-42c1-4331-86df-6c39ecf821ed"
   },
   "outputs": [
    {
     "data": {
      "text/plain": [
       "Text(0, 0.5, '')"
      ]
     },
     "execution_count": 115,
     "metadata": {},
     "output_type": "execute_result"
    },
    {
     "data": {
      "image/png": "[encoded data removed]",
      "text/plain": [
       "<Figure size 360x360 with 1 Axes>"
      ]
     },
     "metadata": {},
     "output_type": "display_data"
    }
   ],
   "source": [
    "#Visualizing the top 5 cities\n",
    "plt.figure(figsize=(5,5))\n",
    "df['City'].value_counts().head(5).plot(kind='pie',autopct='%1.1f%%', textprops={'fontsize': 15})\n",
    "plt.title('City', fontsize = 18)\n",
    "plt.ylabel('')"
   ]
  },
  {
   "cell_type": "markdown",
   "metadata": {
    "id": "UCj_fwR0E9uT"
   },
   "source": [
    "### State"
   ]
  },
  {
   "cell_type": "code",
   "execution_count": null,
   "metadata": {
    "id": "okj6MEQkE9uU",
    "outputId": "36934111-f582-41d4-aae2-e5207ea53bc6"
   },
   "outputs": [
    {
     "data": {
      "text/plain": [
       "59"
      ]
     },
     "execution_count": 116,
     "metadata": {},
     "output_type": "execute_result"
    }
   ],
   "source": [
    "df['State'].value_counts().count()"
   ]
  },
  {
   "cell_type": "code",
   "execution_count": null,
   "metadata": {
    "id": "GqkoUpl1E9uU",
    "outputId": "63ed7414-29e7-44a7-ad0d-c52fe5a5348e"
   },
   "outputs": [
    {
     "data": {
      "text/plain": [
       "array([' MO', ' IN', ' NC', ' LA', ' NV', ' NY', ' CA', ' AR', ' FL',\n",
       "       ' AZ', ' KY', ' TN', ' MI', ' TX', ' PA', ' OK', ' NJ', ' MD',\n",
       "       ' OH', ' GA', ' Va', ' Fl', ' CO', ' ND', ' AL', ' IL', ' MA',\n",
       "       ' WA', ' WI', ' MN', ' VA', ' KS', ' RI', ' OR', ' MS', ' NM',\n",
       "       ' SC', ' NE', ' IA', ' NH', ' UT', ' ME', ' CT', ' HI', ' ID',\n",
       "       ' DE', ' MT', ' WV', ' WY', ' SD', ' AK', ' VT', ' Ga', ' ga',\n",
       "       ' Md', ' Ca', ' Oh', ' Az', ' DC'], dtype=object)"
      ]
     },
     "execution_count": 117,
     "metadata": {},
     "output_type": "execute_result"
    }
   ],
   "source": [
    "df['State'].unique()"
   ]
  },
  {
   "cell_type": "code",
   "execution_count": null,
   "metadata": {
    "id": "TxkB0OEfE9uV",
    "outputId": "16181f9f-bebc-4e2f-966a-a29e96dffb41",
    "scrolled": true
   },
   "outputs": [
    {
     "data": {
      "text/plain": [
       " TX    233109\n",
       " CA    194663\n",
       " FL    178364\n",
       " GA     94162\n",
       " IL     93174\n",
       "Name: State, dtype: int64"
      ]
     },
     "execution_count": 118,
     "metadata": {},
     "output_type": "execute_result"
    }
   ],
   "source": [
    "df['State'].value_counts().head(5)"
   ]
  },
  {
   "cell_type": "code",
   "execution_count": null,
   "metadata": {
    "id": "_peVrOtiE9uV",
    "outputId": "32c51487-ef62-4109-f904-bf0804923c83",
    "scrolled": true
   },
   "outputs": [
    {
     "data": {
      "text/plain": [
       "Text(0, 0.5, '')"
      ]
     },
     "execution_count": 119,
     "metadata": {},
     "output_type": "execute_result"
    },
    {
     "data": {
      "image/png": "[encoded data removed]",
      "text/plain": [
       "<Figure size 360x360 with 1 Axes>"
      ]
     },
     "metadata": {},
     "output_type": "display_data"
    }
   ],
   "source": [
    "#Visualizing the top 5 states\n",
    "plt.figure(figsize=(5,5))\n",
    "df['State'].value_counts().head(5).plot(kind='pie',autopct='%1.1f%%', textprops={'fontsize': 15})\n",
    "plt.title('State', fontsize = 18)\n",
    "plt.ylabel('')"
   ]
  },
  {
   "cell_type": "markdown",
   "metadata": {
    "id": "koCOyTPhE9uW"
   },
   "source": [
    "59 State appeared in the dataand this is not reasonable as the USA has only 50 States, so form the values there, there some duplicate values which appears in mixure of upper and lower charachters that represents the State names' so we we have to handle this by changing all states names' to be in UPPER Values"
   ]
  },
  {
   "cell_type": "code",
   "execution_count": null,
   "metadata": {
    "id": "syBY3cHuE9uW"
   },
   "outputs": [],
   "source": [
    "def upper_states(State):\n",
    "    return State.upper()\n",
    "df[\"State\"] = df[\"State\"].apply(upper_states)"
   ]
  },
  {
   "cell_type": "code",
   "execution_count": null,
   "metadata": {
    "id": "sJqor_eJE9uX",
    "outputId": "a83f49ef-6af7-4b1b-faf5-bb9a7f0a1a44",
    "scrolled": true
   },
   "outputs": [
    {
     "data": {
      "text/plain": [
       "51"
      ]
     },
     "execution_count": 121,
     "metadata": {},
     "output_type": "execute_result"
    }
   ],
   "source": [
    "df['State'].value_counts().count()"
   ]
  },
  {
   "cell_type": "code",
   "execution_count": null,
   "metadata": {
    "id": "7jnhYaSmE9uX",
    "outputId": "ee438119-b19b-40ac-bc08-6c636cd21893"
   },
   "outputs": [
    {
     "data": {
      "text/plain": [
       " TX    233109\n",
       " CA    194738\n",
       " FL    180200\n",
       " GA     94752\n",
       " IL     93174\n",
       " NC     89701\n",
       " VA     84098\n",
       " PA     68232\n",
       " NJ     65917\n",
       " NY     65635\n",
       " OH     57023\n",
       " WA     55680\n",
       " CO     55276\n",
       " AZ     55098\n",
       " TN     46416\n",
       " MA     43994\n",
       " MD     43051\n",
       " IN     39523\n",
       " MO     39231\n",
       " KY     33299\n",
       " AL     31573\n",
       " WI     27342\n",
       " MN     26629\n",
       " CT     25679\n",
       " UT     25346\n",
       " MI     25282\n",
       " OR     24832\n",
       " OK     24185\n",
       " SC     23737\n",
       " LA     19898\n",
       " KS     18762\n",
       " NV     17157\n",
       " AR     16304\n",
       " MS     14665\n",
       " NH     13869\n",
       " NE     11944\n",
       " NM     11660\n",
       " IA     11500\n",
       " ID      8344\n",
       " HI      6693\n",
       " DE      6106\n",
       " MT      4529\n",
       " ME      4513\n",
       " RI      4427\n",
       " AK      3892\n",
       " WV      3480\n",
       " ND      2899\n",
       " SD      2851\n",
       " VT      2631\n",
       " WY      1563\n",
       " DC        52\n",
       "Name: State, dtype: int64"
      ]
     },
     "execution_count": 122,
     "metadata": {},
     "output_type": "execute_result"
    }
   ],
   "source": [
    "df['State'].value_counts()"
   ]
  },
  {
   "cell_type": "code",
   "execution_count": null,
   "metadata": {
    "id": "OyplfH_sE9uX",
    "outputId": "8d3e91b5-044c-4c16-8505-b7cad18ecaed"
   },
   "outputs": [
    {
     "data": {
      "text/plain": [
       "Text(0, 0.5, '')"
      ]
     },
     "execution_count": 123,
     "metadata": {},
     "output_type": "execute_result"
    },
    {
     "data": {
      "image/png": "[encoded data removed]",
      "text/plain": [
       "<Figure size 360x360 with 1 Axes>"
      ]
     },
     "metadata": {},
     "output_type": "display_data"
    }
   ],
   "source": [
    "#Visualizing the top 5 states\n",
    "plt.figure(figsize=(5,5))\n",
    "df['State'].value_counts().head(5).plot(kind='pie',autopct='%1.1f%%', textprops={'fontsize': 15})\n",
    "plt.title('State', fontsize = 18)\n",
    "plt.ylabel('')"
   ]
  },
  {
   "cell_type": "markdown",
   "metadata": {
    "id": "MewOKbFmE9uY"
   },
   "source": [
    "### VIN"
   ]
  },
  {
   "cell_type": "code",
   "execution_count": null,
   "metadata": {
    "id": "ley-zqLLE9uY",
    "outputId": "19aef78c-bde6-47b5-9ce5-58b0f778eed0"
   },
   "outputs": [
    {
     "data": {
      "text/plain": [
       "1223229"
      ]
     },
     "execution_count": 124,
     "metadata": {},
     "output_type": "execute_result"
    }
   ],
   "source": [
    "df['Vin'].value_counts().count()"
   ]
  },
  {
   "cell_type": "code",
   "execution_count": null,
   "metadata": {
    "id": "9vkY-vzOE9uZ",
    "outputId": "18d09a11-48f5-42dc-b62f-43891d298c32"
   },
   "outputs": [
    {
     "data": {
      "text/plain": [
       "array(['KL4CJBSBXFB267643', 'KL4CJASB5FB245057', 'KL4CJCSB0FB264921', ...,\n",
       "       'WVWHV7AJ0DW009210', 'WVWHV7AJ5DW082797', 'WVWHV7AJ4DW123050'],\n",
       "      dtype=object)"
      ]
     },
     "execution_count": 125,
     "metadata": {},
     "output_type": "execute_result"
    }
   ],
   "source": [
    "df['Vin'].unique()"
   ]
  },
  {
   "cell_type": "code",
   "execution_count": null,
   "metadata": {
    "id": "rUFNSdf_E9uZ",
    "outputId": "b807ff7e-3db4-48e9-9120-3994ce007426",
    "scrolled": true
   },
   "outputs": [
    {
     "data": {
      "text/plain": [
       "3FA6P0H93GR316968    3\n",
       "2G1FB1EV2A9127699    3\n",
       "2G11Y5SL4E9113294    3\n",
       "1G11Y5SL5EU125232    3\n",
       "2G1FB1E32F9136442    3\n",
       "Name: Vin, dtype: int64"
      ]
     },
     "execution_count": 126,
     "metadata": {},
     "output_type": "execute_result"
    }
   ],
   "source": [
    "df['Vin'].value_counts().head(5)"
   ]
  },
  {
   "cell_type": "markdown",
   "metadata": {
    "id": "J0AP1JMkE9ua"
   },
   "source": [
    "#### VIN Duplicate Removal"
   ]
  },
  {
   "cell_type": "code",
   "execution_count": null,
   "metadata": {
    "id": "7YyqomA-E9ua"
   },
   "outputs": [],
   "source": [
    "# VIN Column Have some duplicates which is note allowed as each motor has only one IN\n",
    "repeated_vin = df[\"Vin\"].value_counts()[df[\"Vin\"].value_counts() > 1].index"
   ]
  },
  {
   "cell_type": "markdown",
   "metadata": {
    "id": "Lf6vQ9qIE9ub"
   },
   "source": [
    "As we assume, most of entries that have the same Vin are duplicated, so we eill remove them and this will reduce the number of rows in the dataset signficantly."
   ]
  },
  {
   "cell_type": "code",
   "execution_count": null,
   "metadata": {
    "id": "_KhR-dAgE9ub"
   },
   "outputs": [],
   "source": [
    "#Removing Duplicate VINs\n",
    "df.drop_duplicates(subset = \"Vin\", inplace= True)"
   ]
  },
  {
   "cell_type": "markdown",
   "metadata": {
    "id": "txz2ZVEjE9ub"
   },
   "source": [
    "### Make"
   ]
  },
  {
   "cell_type": "code",
   "execution_count": null,
   "metadata": {
    "id": "PgEATZCAE9uc",
    "outputId": "bcab6468-9be5-43fe-c386-d2ed75d46df6"
   },
   "outputs": [
    {
     "data": {
      "text/plain": [
       "58"
      ]
     },
     "execution_count": 131,
     "metadata": {},
     "output_type": "execute_result"
    }
   ],
   "source": [
    "df['Make'].value_counts().count()"
   ]
  },
  {
   "cell_type": "code",
   "execution_count": null,
   "metadata": {
    "id": "QSYzfg_6E9uc",
    "outputId": "f62d7cd5-50dd-44b8-fa1e-6cefc13f6691"
   },
   "outputs": [
    {
     "data": {
      "text/plain": [
       "Ford         161042\n",
       "Chevrolet    149571\n",
       "Toyota       116578\n",
       "Nissan        98533\n",
       "Honda         76497\n",
       "Name: Make, dtype: int64"
      ]
     },
     "execution_count": 132,
     "metadata": {},
     "output_type": "execute_result"
    }
   ],
   "source": [
    "df['Make'].value_counts().head()"
   ]
  },
  {
   "cell_type": "code",
   "execution_count": null,
   "metadata": {
    "id": "2JsMqAXIE9uc",
    "outputId": "34bc9a42-d960-46cb-b251-9d67fc7e0cc0"
   },
   "outputs": [
    {
     "data": {
      "text/plain": [
       "Text(0, 0.5, '')"
      ]
     },
     "execution_count": 133,
     "metadata": {},
     "output_type": "execute_result"
    },
    {
     "data": {
      "image/png": "[encoded data removed]",
      "text/plain": [
       "<Figure size 360x360 with 1 Axes>"
      ]
     },
     "metadata": {},
     "output_type": "display_data"
    }
   ],
   "source": [
    "#Visualizing the top 5 Make\n",
    "plt.figure(figsize=(5,5))\n",
    "df['Make'].value_counts().head(5).plot(kind='pie',autopct='%1.1f%%', textprops={'fontsize': 15})\n",
    "plt.title('Make', fontsize = 18)\n",
    "plt.ylabel('')"
   ]
  },
  {
   "cell_type": "markdown",
   "metadata": {
    "id": "-_Qs00D3E9ud"
   },
   "source": [
    "### Model"
   ]
  },
  {
   "cell_type": "code",
   "execution_count": null,
   "metadata": {
    "id": "YIUFZnrtE9ud",
    "outputId": "7a7ca1a9-d3d7-4ca9-8e4f-1bb6eba48deb",
    "scrolled": true
   },
   "outputs": [
    {
     "data": {
      "text/plain": [
       "3127"
      ]
     },
     "execution_count": 134,
     "metadata": {},
     "output_type": "execute_result"
    }
   ],
   "source": [
    "df['Model'].value_counts().count()"
   ]
  },
  {
   "cell_type": "code",
   "execution_count": null,
   "metadata": {
    "id": "HDxgUXq2E9ud",
    "outputId": "e7948802-0d9d-49f8-ebf2-f83050d233a4"
   },
   "outputs": [
    {
     "data": {
      "text/plain": [
       "Silverado    35769\n",
       "Grand        25347\n",
       "Altima2.5    16823\n",
       "Sierra       16318\n",
       "Accord       14865\n",
       "Name: Model, dtype: int64"
      ]
     },
     "execution_count": 135,
     "metadata": {},
     "output_type": "execute_result"
    }
   ],
   "source": [
    "df['Model'].value_counts().head()"
   ]
  },
  {
   "cell_type": "code",
   "execution_count": null,
   "metadata": {
    "id": "Gd-gOlv7E9ud",
    "outputId": "63e4ed26-09c5-49ad-aa8a-250ff14f38a7",
    "scrolled": true
   },
   "outputs": [
    {
     "data": {
      "text/plain": [
       "Text(0, 0.5, '')"
      ]
     },
     "execution_count": 136,
     "metadata": {},
     "output_type": "execute_result"
    },
    {
     "data": {
      "image/png": "[encoded data removed]",
      "text/plain": [
       "<Figure size 360x360 with 1 Axes>"
      ]
     },
     "metadata": {},
     "output_type": "display_data"
    }
   ],
   "source": [
    "#Visualizing the top 5 Model\n",
    "plt.figure(figsize=(5,5))\n",
    "df['Model'].value_counts().head(5).plot(kind='pie',autopct='%1.1f%%', textprops={'fontsize': 15})\n",
    "plt.title('Model', fontsize = 18)\n",
    "plt.ylabel('')"
   ]
  },
  {
   "cell_type": "code",
   "execution_count": null,
   "metadata": {
    "id": "Qfetp1VH72vo"
   },
   "outputs": [],
   "source": [
    "df[\"Model\"] = df[\"Model\"].apply(upper_states)"
   ]
  },
  {
   "cell_type": "code",
   "execution_count": null,
   "metadata": {
    "id": "81bdb867",
    "outputId": "4c5f7a35-ebca-4773-fe25-c2e393dcfa97"
   },
   "outputs": [
    {
     "data": {
      "text/plain": [
       "SILVERADO    35769\n",
       "GRAND        25347\n",
       "ALTIMA2.5    16823\n",
       "SIERRA       16318\n",
       "ACCORD       14865\n",
       "             ...  \n",
       "MKS              1\n",
       "MKSBASE          1\n",
       "MKX              1\n",
       "LFALFA           1\n",
       "COBALTSS         1\n",
       "Name: Model, Length: 3074, dtype: int64"
      ]
     },
     "execution_count": 138,
     "metadata": {},
     "output_type": "execute_result"
    }
   ],
   "source": [
    "df[\"Model\"].value_counts()"
   ]
  },
  {
   "cell_type": "code",
   "execution_count": null,
   "metadata": {
    "id": "01615562"
   },
   "outputs": [],
   "source": [
    "df[\"Make\"] = df[\"Make\"].apply(upper_states)\n",
    "df[\"City\"] = df[\"City\"].apply(upper_states)"
   ]
  },
  {
   "cell_type": "code",
   "execution_count": null,
   "metadata": {
    "id": "46c5eef1",
    "outputId": "436e1533-f946-4f5e-ea1c-50827d5f1494"
   },
   "outputs": [
    {
     "data": {
      "text/plain": [
       "FORD             161042\n",
       "CHEVROLET        149571\n",
       "TOYOTA           116578\n",
       "NISSAN            98533\n",
       "HONDA             76497\n",
       "JEEP              60242\n",
       "HYUNDAI           54605\n",
       "DODGE             50247\n",
       "KIA               42808\n",
       "GMC               42713\n",
       "MERCEDES-BENZ     38094\n",
       "VOLKSWAGEN        33220\n",
       "BMW               32401\n",
       "LEXUS             29729\n",
       "RAM               24603\n",
       "CHRYSLER          23802\n",
       "SUBARU            23720\n",
       "CADILLAC          21883\n",
       "MAZDA             19833\n",
       "BUICK             18132\n",
       "INFINITI          17725\n",
       "AUDI              12613\n",
       "ACURA             11015\n",
       "LINCOLN           10045\n",
       "VOLVO              7323\n",
       "MINI               6223\n",
       "MITSUBISHI         5910\n",
       "LAND               5842\n",
       "PORSCHE            5783\n",
       "SCION              4381\n",
       "JAGUAR             3113\n",
       "FIAT               2613\n",
       "PONTIAC            2538\n",
       "MERCURY            1584\n",
       "SATURN             1429\n",
       "MASERATI           1379\n",
       "HUMMER             1322\n",
       "SMART               982\n",
       "SUZUKI              482\n",
       "FERRARI             420\n",
       "SAAB                367\n",
       "BENTLEY             367\n",
       "TESLA               352\n",
       "GENESIS             209\n",
       "OLDSMOBILE          162\n",
       "ASTON               149\n",
       "LAMBORGHINI         141\n",
       "ROLLS-ROYCE         108\n",
       "ISUZU               101\n",
       "PLYMOUTH             70\n",
       "MCLAREN              64\n",
       "LOTUS                49\n",
       "ALFA                 44\n",
       "FISKER               25\n",
       "AM                   19\n",
       "FREIGHTLINER         13\n",
       "MAYBACH              11\n",
       "GEO                   3\n",
       "Name: Make, dtype: int64"
      ]
     },
     "execution_count": 140,
     "metadata": {},
     "output_type": "execute_result"
    }
   ],
   "source": [
    "df[\"Make\"].value_counts()"
   ]
  },
  {
   "cell_type": "markdown",
   "metadata": {
    "id": "U-U5Mky0E9uf"
   },
   "source": [
    "Also here there was some entries that was duplicated."
   ]
  },
  {
   "cell_type": "markdown",
   "metadata": {
    "id": "32kwGANLE9uf"
   },
   "source": [
    "## Bivariate Analysis"
   ]
  },
  {
   "cell_type": "markdown",
   "metadata": {
    "id": "ZGfQTtmRE9uf"
   },
   "source": [
    "### Price Vs Mileage"
   ]
  },
  {
   "cell_type": "code",
   "execution_count": null,
   "metadata": {
    "id": "YQ5DKMrbE9uf",
    "outputId": "b2540176-6714-4312-9d6d-b1a6af4f8c0f"
   },
   "outputs": [
    {
     "data": {
      "image/png": "[encoded data removed]",
      "text/plain": [
       "<Figure size 432x288 with 1 Axes>"
      ]
     },
     "metadata": {},
     "output_type": "display_data"
    }
   ],
   "source": [
    "plt.scatter(df.Price, df['Mileage'])\n",
    "plt.xlabel(\"Price \", fontsize=14)\n",
    "plt.ylabel(\"Mileage\", fontsize=14)\n",
    "plt.title(\"Scatter plot of Price and Mileage\",fontsize=18)\n",
    "plt.show()"
   ]
  },
  {
   "cell_type": "markdown",
   "metadata": {
    "id": "3OcPPSRmE9ug"
   },
   "source": [
    "### Price Vs Year"
   ]
  },
  {
   "cell_type": "code",
   "execution_count": null,
   "metadata": {
    "id": "bUUjXBVvE9ug",
    "outputId": "665ba97a-584b-4a13-d47e-2cb3613f075e"
   },
   "outputs": [
    {
     "data": {
      "image/png": "[encoded data removed]",
      "text/plain": [
       "<Figure size 432x288 with 1 Axes>"
      ]
     },
     "metadata": {},
     "output_type": "display_data"
    }
   ],
   "source": [
    "plt.scatter(df.Price, df['Year'])\n",
    "plt.xlabel(\"Price \", fontsize=14)\n",
    "plt.ylabel(\"Year\", fontsize=14)\n",
    "plt.title(\"Scatter plot of Price and Year\",fontsize=18)\n",
    "plt.show()"
   ]
  },
  {
   "cell_type": "markdown",
   "metadata": {
    "id": "RYPCWwjQE9ug"
   },
   "source": [
    "### Average price with respect to Model and Make"
   ]
  },
  {
   "cell_type": "code",
   "execution_count": null,
   "metadata": {
    "id": "KdnALgWdE9uh",
    "outputId": "5b641b72-8a63-48ae-9ba5-db5b2bcf412c"
   },
   "outputs": [
    {
     "data": {
      "text/plain": [
       "<Figure size 1080x720 with 0 Axes>"
      ]
     },
     "metadata": {},
     "output_type": "display_data"
    },
    {
     "data": {
      "image/png": "[encoded data removed]",
      "text/plain": [
       "<Figure size 432x288 with 1 Axes>"
      ]
     },
     "metadata": {},
     "output_type": "display_data"
    },
    {
     "data": {
      "image/png": "[encoded data removed]",
      "text/plain": [
       "<Figure size 432x288 with 1 Axes>"
      ]
     },
     "metadata": {},
     "output_type": "display_data"
    },
    {
     "data": {
      "image/png": "[encoded data removed]",
      "text/plain": [
       "<Figure size 432x288 with 1 Axes>"
      ]
     },
     "metadata": {},
     "output_type": "display_data"
    }
   ],
   "source": [
    "# Checking the average price with respect to Model and Make\n",
    "#we can calculate the average price for each of the different categories of data\n",
    "\n",
    "make_price = df.pivot_table(values = 'Price', index = 'Make',aggfunc ='mean').sort_values(by ='Price', ascending = False).head(20)\n",
    "model_price = df.pivot_table(values = 'Price', index = 'Model',aggfunc ='mean').sort_values(by ='Price', ascending = False).head(20)\n",
    "year_price = df.pivot_table(values = 'Price', index = 'Year',aggfunc ='mean').sort_values(by ='Price', ascending = False).head()\n",
    "\n",
    "\n",
    "plt.figure(figsize=(15,10))\n",
    "\n",
    "make_price.plot.bar()\n",
    "plt.title('Make vs Average Price')\n",
    "\n",
    "model_price.plot.bar()\n",
    "plt.title('Model vs Average Price')\n",
    "\n",
    "year_price.plot()\n",
    "plt.title('Year vs Average Price')\n",
    "\n",
    "plt.show()"
   ]
  },
  {
   "cell_type": "markdown",
   "metadata": {
    "id": "0soza6iwE9uh"
   },
   "source": [
    "### Excluding all cars with useagevery small as they cannot considered as used cars:"
   ]
  },
  {
   "cell_type": "code",
   "execution_count": null,
   "metadata": {
    "id": "faf14444"
   },
   "outputs": [],
   "source": [
    "df.drop(df[df[\"Mileage\"] < 10].index, inplace = True)"
   ]
  },
  {
   "cell_type": "code",
   "execution_count": null,
   "metadata": {
    "id": "d5b1575c"
   },
   "outputs": [],
   "source": [
    "df= df.reset_index().drop(columns = [\"index\"])"
   ]
  },
  {
   "cell_type": "code",
   "execution_count": null,
   "metadata": {
    "id": "3784a8f9",
    "outputId": "768adf64-746b-4984-ee1e-85ce0a3fdd11"
   },
   "outputs": [
    {
     "data": {
      "text/html": [
       "<div>\n",
       "<style scoped>\n",
       "    .dataframe tbody tr th:only-of-type {\n",
       "        vertical-align: middle;\n",
       "    }\n",
       "\n",
       "    .dataframe tbody tr th {\n",
       "        vertical-align: top;\n",
       "    }\n",
       "\n",
       "    .dataframe thead th {\n",
       "        text-align: right;\n",
       "    }\n",
       "</style>\n",
       "<table border=\"1\" class=\"dataframe\">\n",
       "  <thead>\n",
       "    <tr style=\"text-align: right;\">\n",
       "      <th></th>\n",
       "      <th>Price</th>\n",
       "      <th>Year</th>\n",
       "      <th>Mileage</th>\n",
       "      <th>City</th>\n",
       "      <th>State</th>\n",
       "      <th>Vin</th>\n",
       "      <th>Make</th>\n",
       "      <th>Model</th>\n",
       "    </tr>\n",
       "  </thead>\n",
       "  <tbody>\n",
       "    <tr>\n",
       "      <th>0</th>\n",
       "      <td>16472</td>\n",
       "      <td>2015</td>\n",
       "      <td>18681</td>\n",
       "      <td>JEFFERSON CITY</td>\n",
       "      <td>MO</td>\n",
       "      <td>KL4CJBSBXFB267643</td>\n",
       "      <td>BUICK</td>\n",
       "      <td>ENCORECONVENIENCE</td>\n",
       "    </tr>\n",
       "    <tr>\n",
       "      <th>1</th>\n",
       "      <td>15749</td>\n",
       "      <td>2015</td>\n",
       "      <td>27592</td>\n",
       "      <td>HIGHLAND</td>\n",
       "      <td>IN</td>\n",
       "      <td>KL4CJASB5FB245057</td>\n",
       "      <td>BUICK</td>\n",
       "      <td>ENCOREFWD</td>\n",
       "    </tr>\n",
       "    <tr>\n",
       "      <th>2</th>\n",
       "      <td>16998</td>\n",
       "      <td>2015</td>\n",
       "      <td>13650</td>\n",
       "      <td>BOONE</td>\n",
       "      <td>NC</td>\n",
       "      <td>KL4CJCSB0FB264921</td>\n",
       "      <td>BUICK</td>\n",
       "      <td>ENCORELEATHER</td>\n",
       "    </tr>\n",
       "    <tr>\n",
       "      <th>3</th>\n",
       "      <td>15777</td>\n",
       "      <td>2015</td>\n",
       "      <td>25195</td>\n",
       "      <td>NEW ORLEANS</td>\n",
       "      <td>LA</td>\n",
       "      <td>KL4CJASB4FB217542</td>\n",
       "      <td>BUICK</td>\n",
       "      <td>ENCOREFWD</td>\n",
       "    </tr>\n",
       "    <tr>\n",
       "      <th>4</th>\n",
       "      <td>16784</td>\n",
       "      <td>2015</td>\n",
       "      <td>22800</td>\n",
       "      <td>LAS VEGAS</td>\n",
       "      <td>NV</td>\n",
       "      <td>KL4CJBSB3FB166881</td>\n",
       "      <td>BUICK</td>\n",
       "      <td>ENCORECONVENIENCE</td>\n",
       "    </tr>\n",
       "  </tbody>\n",
       "</table>\n",
       "</div>"
      ],
      "text/plain": [
       "   Price  Year  Mileage            City State                Vin   Make  \\\n",
       "0  16472  2015    18681  JEFFERSON CITY    MO  KL4CJBSBXFB267643  BUICK   \n",
       "1  15749  2015    27592        HIGHLAND    IN  KL4CJASB5FB245057  BUICK   \n",
       "2  16998  2015    13650           BOONE    NC  KL4CJCSB0FB264921  BUICK   \n",
       "3  15777  2015    25195     NEW ORLEANS    LA  KL4CJASB4FB217542  BUICK   \n",
       "4  16784  2015    22800       LAS VEGAS    NV  KL4CJBSB3FB166881  BUICK   \n",
       "\n",
       "               Model  \n",
       "0  ENCORECONVENIENCE  \n",
       "1          ENCOREFWD  \n",
       "2      ENCORELEATHER  \n",
       "3          ENCOREFWD  \n",
       "4  ENCORECONVENIENCE  "
      ]
     },
     "execution_count": 146,
     "metadata": {},
     "output_type": "execute_result"
    }
   ],
   "source": [
    "df.head()"
   ]
  },
  {
   "cell_type": "markdown",
   "metadata": {
    "id": "1ec5c5a2"
   },
   "source": [
    "#### Removing Vin column:"
   ]
  },
  {
   "cell_type": "code",
   "execution_count": null,
   "metadata": {
    "id": "f7b60c07"
   },
   "outputs": [],
   "source": [
    "#As this column has a very high cardinality, so this will not affect the anlaysis.\n",
    "df.drop(columns = [\"Vin\"], inplace = True)"
   ]
  },
  {
   "cell_type": "markdown",
   "metadata": {
    "id": "1736fe63"
   },
   "source": [
    "### Usage Level"
   ]
  },
  {
   "cell_type": "markdown",
   "metadata": {
    "id": "f30381b8"
   },
   "source": [
    "From the distribution of the mileage column, we can see that the first quantile is arround 25k Mile, and the third quantile is arround 80K Mile, so we can have a new feature that identifies the level of car usage as a function of mileage made by the car as follows:\n",
    "- Mileage < 25K mile ==> Low usage\n",
    "- Mileage between 25K and 80K ==> Moderate usage\n",
    "- Mileage larger than that ==> High usage."
   ]
  },
  {
   "cell_type": "code",
   "execution_count": null,
   "metadata": {
    "id": "eec9876c"
   },
   "outputs": [],
   "source": [
    "def get_mile_range(mileage):\n",
    "    if mileage < 25000:\n",
    "        return \"Low\"\n",
    "    elif (25000 <= mileage) and (mileage < 80000 ):\n",
    "        return \"Medium\"\n",
    "    else:\n",
    "        return \"High\""
   ]
  },
  {
   "cell_type": "code",
   "execution_count": null,
   "metadata": {
    "id": "95f7fde4"
   },
   "outputs": [],
   "source": [
    "df[\"Usage_level\"] = df[\"Mileage\"].apply(get_mile_range)"
   ]
  },
  {
   "cell_type": "code",
   "execution_count": null,
   "metadata": {
    "id": "d557c948",
    "outputId": "82cfe136-a65c-40c6-ae23-04a808985e37"
   },
   "outputs": [
    {
     "data": {
      "text/html": [
       "<div>\n",
       "<style scoped>\n",
       "    .dataframe tbody tr th:only-of-type {\n",
       "        vertical-align: middle;\n",
       "    }\n",
       "\n",
       "    .dataframe tbody tr th {\n",
       "        vertical-align: top;\n",
       "    }\n",
       "\n",
       "    .dataframe thead th {\n",
       "        text-align: right;\n",
       "    }\n",
       "</style>\n",
       "<table border=\"1\" class=\"dataframe\">\n",
       "  <thead>\n",
       "    <tr style=\"text-align: right;\">\n",
       "      <th></th>\n",
       "      <th>Price</th>\n",
       "      <th>Year</th>\n",
       "      <th>Mileage</th>\n",
       "      <th>City</th>\n",
       "      <th>State</th>\n",
       "      <th>Make</th>\n",
       "      <th>Model</th>\n",
       "      <th>Usage_level</th>\n",
       "    </tr>\n",
       "  </thead>\n",
       "  <tbody>\n",
       "    <tr>\n",
       "      <th>0</th>\n",
       "      <td>16472</td>\n",
       "      <td>2015</td>\n",
       "      <td>18681</td>\n",
       "      <td>JEFFERSON CITY</td>\n",
       "      <td>MO</td>\n",
       "      <td>BUICK</td>\n",
       "      <td>ENCORECONVENIENCE</td>\n",
       "      <td>Low</td>\n",
       "    </tr>\n",
       "    <tr>\n",
       "      <th>1</th>\n",
       "      <td>15749</td>\n",
       "      <td>2015</td>\n",
       "      <td>27592</td>\n",
       "      <td>HIGHLAND</td>\n",
       "      <td>IN</td>\n",
       "      <td>BUICK</td>\n",
       "      <td>ENCOREFWD</td>\n",
       "      <td>Medium</td>\n",
       "    </tr>\n",
       "    <tr>\n",
       "      <th>2</th>\n",
       "      <td>16998</td>\n",
       "      <td>2015</td>\n",
       "      <td>13650</td>\n",
       "      <td>BOONE</td>\n",
       "      <td>NC</td>\n",
       "      <td>BUICK</td>\n",
       "      <td>ENCORELEATHER</td>\n",
       "      <td>Low</td>\n",
       "    </tr>\n",
       "    <tr>\n",
       "      <th>3</th>\n",
       "      <td>15777</td>\n",
       "      <td>2015</td>\n",
       "      <td>25195</td>\n",
       "      <td>NEW ORLEANS</td>\n",
       "      <td>LA</td>\n",
       "      <td>BUICK</td>\n",
       "      <td>ENCOREFWD</td>\n",
       "      <td>Medium</td>\n",
       "    </tr>\n",
       "    <tr>\n",
       "      <th>4</th>\n",
       "      <td>16784</td>\n",
       "      <td>2015</td>\n",
       "      <td>22800</td>\n",
       "      <td>LAS VEGAS</td>\n",
       "      <td>NV</td>\n",
       "      <td>BUICK</td>\n",
       "      <td>ENCORECONVENIENCE</td>\n",
       "      <td>Low</td>\n",
       "    </tr>\n",
       "  </tbody>\n",
       "</table>\n",
       "</div>"
      ],
      "text/plain": [
       "   Price  Year  Mileage            City State   Make              Model  \\\n",
       "0  16472  2015    18681  JEFFERSON CITY    MO  BUICK  ENCORECONVENIENCE   \n",
       "1  15749  2015    27592        HIGHLAND    IN  BUICK          ENCOREFWD   \n",
       "2  16998  2015    13650           BOONE    NC  BUICK      ENCORELEATHER   \n",
       "3  15777  2015    25195     NEW ORLEANS    LA  BUICK          ENCOREFWD   \n",
       "4  16784  2015    22800       LAS VEGAS    NV  BUICK  ENCORECONVENIENCE   \n",
       "\n",
       "  Usage_level  \n",
       "0         Low  \n",
       "1      Medium  \n",
       "2         Low  \n",
       "3      Medium  \n",
       "4         Low  "
      ]
     },
     "execution_count": 150,
     "metadata": {},
     "output_type": "execute_result"
    }
   ],
   "source": [
    "df.head()"
   ]
  },
  {
   "cell_type": "code",
   "execution_count": null,
   "metadata": {
    "id": "XicGR8ekE9uk",
    "outputId": "71c3228c-88e2-4a5a-925c-8c235c1a424d"
   },
   "outputs": [
    {
     "data": {
      "text/plain": [
       "<AxesSubplot:xlabel='Usage_level', ylabel='count'>"
      ]
     },
     "execution_count": 151,
     "metadata": {},
     "output_type": "execute_result"
    },
    {
     "data": {
      "image/png": "[encoded data removed]",
      "text/plain": [
       "<Figure size 432x288 with 1 Axes>"
      ]
     },
     "metadata": {},
     "output_type": "display_data"
    }
   ],
   "source": [
    "sns.countplot(df['Usage_level'])"
   ]
  },
  {
   "cell_type": "markdown",
   "metadata": {
    "id": "3AneCBHmE9uk"
   },
   "source": [
    "## USA Main Cities:"
   ]
  },
  {
   "cell_type": "markdown",
   "metadata": {
    "id": "0ecfbfbc"
   },
   "source": [
    "<span id=\"feat2\"> </span>\n",
    "\n",
    "\n",
    "\n",
    "As A result we can see effects of the cities in prices, so we will add one column to identifiy city importance, by importance here we mean the most crowded cities as follows:\n",
    "- Cities > 1Million people in population with a high importance\n",
    "- Cities between 700k and 1Million people with a Medium Importance\n",
    "- Cities <700K People with low importance."
   ]
  },
  {
   "cell_type": "code",
   "execution_count": null,
   "metadata": {
    "id": "3c1dcaa6"
   },
   "outputs": [],
   "source": [
    "def city_importance(city):\n",
    "    important_cities = [\"New York\", \"Los Angeles\", \"Chicago\", \"Houston\", \"Phoenix\", \"Philadelphia\",\n",
    "                        \"San Antonio\", \"San Diego\", \"Dallas\", \"San Jose\"]\n",
    "    Midium_cities = [\"Austin\", \"Jacksonville\", \"Fort Worth\", \"Columbus\", \"Charlotte\", \"San Francisco\",\n",
    "                     \"Indianapolis\", \"Seattle\", \"Denver\", \"Washington\"]\n",
    "    important_cities = [c.upper() for c in important_cities]\n",
    "    Midium_cities = [c.upper() for c in Midium_cities]\n",
    "    if city in important_cities:\n",
    "        return \"High\"\n",
    "    elif city in Midium_cities:\n",
    "        return \"Medium\"\n",
    "    else:\n",
    "        return \"Low\"\n",
    "\n",
    "df[\"City_imporatnce\"] = df[\"City\"].apply(city_importance)"
   ]
  },
  {
   "cell_type": "code",
   "execution_count": null,
   "metadata": {
    "id": "3ZnKXMc4E9ul",
    "outputId": "36ad4e9f-7b3f-408f-c139-0af7308231cf"
   },
   "outputs": [
    {
     "data": {
      "text/html": [
       "<div>\n",
       "<style scoped>\n",
       "    .dataframe tbody tr th:only-of-type {\n",
       "        vertical-align: middle;\n",
       "    }\n",
       "\n",
       "    .dataframe tbody tr th {\n",
       "        vertical-align: top;\n",
       "    }\n",
       "\n",
       "    .dataframe thead th {\n",
       "        text-align: right;\n",
       "    }\n",
       "</style>\n",
       "<table border=\"1\" class=\"dataframe\">\n",
       "  <thead>\n",
       "    <tr style=\"text-align: right;\">\n",
       "      <th></th>\n",
       "      <th>Price</th>\n",
       "      <th>Year</th>\n",
       "      <th>Mileage</th>\n",
       "      <th>City</th>\n",
       "      <th>State</th>\n",
       "      <th>Make</th>\n",
       "      <th>Model</th>\n",
       "      <th>Usage_level</th>\n",
       "      <th>City_imporatnce</th>\n",
       "    </tr>\n",
       "  </thead>\n",
       "  <tbody>\n",
       "    <tr>\n",
       "      <th>0</th>\n",
       "      <td>16472</td>\n",
       "      <td>2015</td>\n",
       "      <td>18681</td>\n",
       "      <td>JEFFERSON CITY</td>\n",
       "      <td>MO</td>\n",
       "      <td>BUICK</td>\n",
       "      <td>ENCORECONVENIENCE</td>\n",
       "      <td>Low</td>\n",
       "      <td>Low</td>\n",
       "    </tr>\n",
       "    <tr>\n",
       "      <th>1</th>\n",
       "      <td>15749</td>\n",
       "      <td>2015</td>\n",
       "      <td>27592</td>\n",
       "      <td>HIGHLAND</td>\n",
       "      <td>IN</td>\n",
       "      <td>BUICK</td>\n",
       "      <td>ENCOREFWD</td>\n",
       "      <td>Medium</td>\n",
       "      <td>Low</td>\n",
       "    </tr>\n",
       "    <tr>\n",
       "      <th>2</th>\n",
       "      <td>16998</td>\n",
       "      <td>2015</td>\n",
       "      <td>13650</td>\n",
       "      <td>BOONE</td>\n",
       "      <td>NC</td>\n",
       "      <td>BUICK</td>\n",
       "      <td>ENCORELEATHER</td>\n",
       "      <td>Low</td>\n",
       "      <td>Low</td>\n",
       "    </tr>\n",
       "    <tr>\n",
       "      <th>3</th>\n",
       "      <td>15777</td>\n",
       "      <td>2015</td>\n",
       "      <td>25195</td>\n",
       "      <td>NEW ORLEANS</td>\n",
       "      <td>LA</td>\n",
       "      <td>BUICK</td>\n",
       "      <td>ENCOREFWD</td>\n",
       "      <td>Medium</td>\n",
       "      <td>Low</td>\n",
       "    </tr>\n",
       "    <tr>\n",
       "      <th>4</th>\n",
       "      <td>16784</td>\n",
       "      <td>2015</td>\n",
       "      <td>22800</td>\n",
       "      <td>LAS VEGAS</td>\n",
       "      <td>NV</td>\n",
       "      <td>BUICK</td>\n",
       "      <td>ENCORECONVENIENCE</td>\n",
       "      <td>Low</td>\n",
       "      <td>Low</td>\n",
       "    </tr>\n",
       "  </tbody>\n",
       "</table>\n",
       "</div>"
      ],
      "text/plain": [
       "   Price  Year  Mileage            City State   Make              Model  \\\n",
       "0  16472  2015    18681  JEFFERSON CITY    MO  BUICK  ENCORECONVENIENCE   \n",
       "1  15749  2015    27592        HIGHLAND    IN  BUICK          ENCOREFWD   \n",
       "2  16998  2015    13650           BOONE    NC  BUICK      ENCORELEATHER   \n",
       "3  15777  2015    25195     NEW ORLEANS    LA  BUICK          ENCOREFWD   \n",
       "4  16784  2015    22800       LAS VEGAS    NV  BUICK  ENCORECONVENIENCE   \n",
       "\n",
       "  Usage_level City_imporatnce  \n",
       "0         Low             Low  \n",
       "1      Medium             Low  \n",
       "2         Low             Low  \n",
       "3      Medium             Low  \n",
       "4         Low             Low  "
      ]
     },
     "execution_count": 153,
     "metadata": {},
     "output_type": "execute_result"
    }
   ],
   "source": [
    "df.head()"
   ]
  },
  {
   "cell_type": "code",
   "execution_count": null,
   "metadata": {
    "id": "PiO14dwmE9um",
    "outputId": "0c666bd7-b97d-4f97-bb1e-e8adf08b145a"
   },
   "outputs": [
    {
     "data": {
      "text/plain": [
       "<AxesSubplot:xlabel='City_imporatnce', ylabel='count'>"
      ]
     },
     "execution_count": 154,
     "metadata": {},
     "output_type": "execute_result"
    },
    {
     "data": {
      "image/png": "[encoded data removed]",
      "text/plain": [
       "<Figure size 432x288 with 1 Axes>"
      ]
     },
     "metadata": {},
     "output_type": "display_data"
    }
   ],
   "source": [
    "sns.countplot(df['City_imporatnce'])"
   ]
  },
  {
   "cell_type": "markdown",
   "metadata": {
    "id": "CFkx3DF-E9um"
   },
   "source": [
    "## Checking the correlation matrix"
   ]
  },
  {
   "cell_type": "code",
   "execution_count": null,
   "metadata": {
    "id": "gmElfecKE9um",
    "outputId": "e21089b6-1ea4-4bf2-81a6-83b3c2edcef1",
    "scrolled": false
   },
   "outputs": [
    {
     "data": {
      "text/html": [
       "<div>\n",
       "<style scoped>\n",
       "    .dataframe tbody tr th:only-of-type {\n",
       "        vertical-align: middle;\n",
       "    }\n",
       "\n",
       "    .dataframe tbody tr th {\n",
       "        vertical-align: top;\n",
       "    }\n",
       "\n",
       "    .dataframe thead th {\n",
       "        text-align: right;\n",
       "    }\n",
       "</style>\n",
       "<table border=\"1\" class=\"dataframe\">\n",
       "  <thead>\n",
       "    <tr style=\"text-align: right;\">\n",
       "      <th></th>\n",
       "      <th>Price</th>\n",
       "      <th>Year</th>\n",
       "      <th>Mileage</th>\n",
       "    </tr>\n",
       "  </thead>\n",
       "  <tbody>\n",
       "    <tr>\n",
       "      <th>Price</th>\n",
       "      <td>1.000000</td>\n",
       "      <td>0.403006</td>\n",
       "      <td>-0.434138</td>\n",
       "    </tr>\n",
       "    <tr>\n",
       "      <th>Year</th>\n",
       "      <td>0.403006</td>\n",
       "      <td>1.000000</td>\n",
       "      <td>-0.778688</td>\n",
       "    </tr>\n",
       "    <tr>\n",
       "      <th>Mileage</th>\n",
       "      <td>-0.434138</td>\n",
       "      <td>-0.778688</td>\n",
       "      <td>1.000000</td>\n",
       "    </tr>\n",
       "  </tbody>\n",
       "</table>\n",
       "</div>"
      ],
      "text/plain": [
       "            Price      Year   Mileage\n",
       "Price    1.000000  0.403006 -0.434138\n",
       "Year     0.403006  1.000000 -0.778688\n",
       "Mileage -0.434138 -0.778688  1.000000"
      ]
     },
     "execution_count": 155,
     "metadata": {},
     "output_type": "execute_result"
    }
   ],
   "source": [
    "df.corr()"
   ]
  },
  {
   "cell_type": "code",
   "execution_count": null,
   "metadata": {
    "colab": {
     "base_uri": "https://localhost:8080/",
     "height": 541
    },
    "id": "nBmoGluKcOJu",
    "outputId": "094874ed-4f1a-410e-fbb4-28b5934ee404"
   },
   "outputs": [
    {
     "data": {
      "image/png": "[encoded data removed]",
      "text/plain": [
       "<Figure size 576x648 with 2 Axes>"
      ]
     },
     "metadata": {},
     "output_type": "display_data"
    }
   ],
   "source": [
    "plt.figure(figsize=(8,9))\n",
    "corr_matrix = df.corr()\n",
    "sns.heatmap(corr_matrix,annot=True,cmap='Greens')\n",
    "plt.show()"
   ]
  },
  {
   "cell_type": "code",
   "execution_count": null,
   "metadata": {
    "id": "DTyygkCoE9un",
    "outputId": "16f9860f-6603-4090-a26f-49d5e4d07678"
   },
   "outputs": [
    {
     "data": {
      "text/plain": [
       "Index(['Price', 'Year', 'Mileage', 'City', 'State', 'Make', 'Model',\n",
       "       'Usage_level', 'City_imporatnce'],\n",
       "      dtype='object')"
      ]
     },
     "execution_count": 157,
     "metadata": {},
     "output_type": "execute_result"
    }
   ],
   "source": [
    "df.columns"
   ]
  },
  {
   "cell_type": "markdown",
   "metadata": {
    "id": "841b0235"
   },
   "source": [
    "## Correlation Matrix for Numerical Data ( Pearson )"
   ]
  },
  {
   "cell_type": "markdown",
   "metadata": {
    "id": "d913838d"
   },
   "source": [
    "checking the correlation between numerical variables."
   ]
  },
  {
   "cell_type": "code",
   "execution_count": null,
   "metadata": {
    "id": "75823df7",
    "outputId": "df5ea284-1cd8-4f17-a952-0b949f29148d"
   },
   "outputs": [
    {
     "data": {
      "image/png": "[encoded data removed]",
      "text/plain": [
       "<Figure size 432x360 with 2 Axes>"
      ]
     },
     "metadata": {},
     "output_type": "display_data"
    }
   ],
   "source": [
    "fig = plt.figure(figsize=[6,5])\n",
    "sns.heatmap(data = df.loc[:,['Price', 'Year', 'Mileage']].corr(),annot=True);\n",
    "plt.tight_layout();"
   ]
  },
  {
   "cell_type": "code",
   "execution_count": null,
   "metadata": {
    "id": "ZvmZlf5ME9uq"
   },
   "outputs": [],
   "source": [
    "df.drop(columns = [\"City_imporatnce\",\"Usage_level\",\"State\"], inplace = True)"
   ]
  },
  {
   "cell_type": "markdown",
   "metadata": {
    "id": "TU7r-YtBE9ur"
   },
   "source": [
    "### Encoding the categorical Features"
   ]
  },
  {
   "cell_type": "code",
   "execution_count": null,
   "metadata": {
    "id": "wj1WtbwPE9ur"
   },
   "outputs": [],
   "source": [
    "from sklearn.preprocessing import LabelEncoder\n",
    "labelencoder_X = LabelEncoder()\n",
    "df['City']      = labelencoder_X.fit_transform(df['City'])  \n",
    "df['Make']= labelencoder_X.fit_transform(df['Make']) \n",
    "df['Model']  = labelencoder_X.fit_transform(df['Model']) "
   ]
  },
  {
   "cell_type": "markdown",
   "metadata": {
    "id": "tE2C7WQvE9ur"
   },
   "source": [
    "### Checking the collinearity between variables using VIF"
   ]
  },
  {
   "cell_type": "code",
   "execution_count": null,
   "metadata": {
    "id": "j_OB6DeVE9us"
   },
   "outputs": [],
   "source": [
    "from statsmodels.stats.outliers_influence import variance_inflation_factor"
   ]
  },
  {
   "cell_type": "code",
   "execution_count": null,
   "metadata": {
    "id": "E7o4DhC8E9us",
    "outputId": "42510eb2-9525-474e-9687-2c6ccaf0e4db"
   },
   "outputs": [
    {
     "data": {
      "text/plain": [
       "Index(['Price', 'Year', 'Mileage', 'City', 'Make', 'Model'], dtype='object')"
      ]
     },
     "execution_count": 162,
     "metadata": {},
     "output_type": "execute_result"
    }
   ],
   "source": [
    "df.columns"
   ]
  },
  {
   "cell_type": "code",
   "execution_count": null,
   "metadata": {
    "id": "IX8gToo3E9us",
    "outputId": "fa33aac5-4d04-43ac-d1b9-ed7f03dc6890"
   },
   "outputs": [
    {
     "name": "stdout",
     "output_type": "stream",
     "text": [
      "   feature        VIF\n",
      "0    Price   4.495936\n",
      "1     Year  16.945453\n",
      "2  Mileage   3.417423\n",
      "3     City   3.967976\n",
      "4     Make   3.572792\n",
      "5    Model   3.940793\n"
     ]
    }
   ],
   "source": [
    "# the independent variables set\n",
    "X = df[['Price', 'Year', 'Mileage', 'City', 'Make', 'Model']]\n",
    "  \n",
    "# VIF dataframe\n",
    "vif_data = pd.DataFrame()\n",
    "vif_data[\"feature\"] = X.columns\n",
    "  \n",
    "# calculating VIF for each feature\n",
    "vif_data[\"VIF\"] = [variance_inflation_factor(X.values, i)\n",
    "                          for i in range(len(X.columns))]\n",
    "  \n",
    "print(vif_data)"
   ]
  },
  {
   "cell_type": "markdown",
   "metadata": {
    "id": "Q_EiyaC3E9ut"
   },
   "source": [
    "- <b> VIF less than 5 are preferable value. Then, there is no correlation between variables.</b>\n",
    "- <b>Year is highly correlated variable. So, we can drop these variables.</b>"
   ]
  },
  {
   "cell_type": "markdown",
   "metadata": {
    "id": "ZhuyaTN5E9ut"
   },
   "source": [
    "After removing ‘Year’ (i.e. the feature with the highest VIF), we calculate the VIF values again."
   ]
  },
  {
   "cell_type": "code",
   "execution_count": null,
   "metadata": {
    "id": "xQxXG5UsE9uu",
    "outputId": "c7a16886-c4aa-4ea7-d142-3a171a130aa9"
   },
   "outputs": [
    {
     "name": "stdout",
     "output_type": "stream",
     "text": [
      "   feature       VIF\n",
      "0    Price  2.899152\n",
      "1  Mileage  2.387300\n",
      "2     City  3.227978\n",
      "3     Make  2.907459\n",
      "4    Model  3.524193\n"
     ]
    }
   ],
   "source": [
    "# the independent variables set\n",
    "X = df[['Price', 'Mileage', 'City', 'Make', 'Model']]\n",
    "  \n",
    "# VIF dataframe\n",
    "vif_data = pd.DataFrame()\n",
    "vif_data[\"feature\"] = X.columns\n",
    "  \n",
    "# calculating VIF for each feature\n",
    "vif_data[\"VIF\"] = [variance_inflation_factor(X.values, i)\n",
    "                          for i in range(len(X.columns))]\n",
    "  \n",
    "print(vif_data)"
   ]
  },
  {
   "cell_type": "markdown",
   "metadata": {
    "id": "syNY8LzMPGJ1"
   },
   "source": [
    "After, Dropping the variable \"year\", there is no collinearity in these dataset."
   ]
  },
  {
   "cell_type": "code",
   "execution_count": null,
   "metadata": {
    "id": "PoB4VrYVE9uu"
   },
   "outputs": [],
   "source": [
    "df.drop(columns = ['Year'], inplace = True)"
   ]
  },
  {
   "cell_type": "code",
   "execution_count": null,
   "metadata": {
    "id": "p01Gz9O-E9uv"
   },
   "outputs": [],
   "source": [
    "x = df.drop(['Price'],axis=1)\n",
    "y= df[['Price']]"
   ]
  },
  {
   "cell_type": "markdown",
   "metadata": {
    "id": "a4ec1ddb"
   },
   "source": [
    "## Selecting important features using Recursive Feature Elimination (RFE)"
   ]
  },
  {
   "cell_type": "code",
   "execution_count": null,
   "metadata": {
    "id": "zO_Czi_1E9uw"
   },
   "outputs": [],
   "source": [
    "from sklearn.model_selection import train_test_split\n",
    "X_train, X_test, y_train, y_test = train_test_split(x, y, test_size = 0.2, random_state = 101)"
   ]
  },
  {
   "cell_type": "code",
   "execution_count": null,
   "metadata": {
    "id": "kTNtK1qyE9ux"
   },
   "outputs": [],
   "source": [
    "from sklearn.feature_selection import RFE\n",
    "from sklearn.ensemble import AdaBoostRegressor\n",
    "from numpy import array"
   ]
  },
  {
   "cell_type": "code",
   "execution_count": null,
   "metadata": {
    "id": "eSnr-lWlE9ux"
   },
   "outputs": [],
   "source": [
    "estimator = AdaBoostRegressor(random_state=0, n_estimators=100)\n",
    "selector = RFE(estimator, n_features_to_select=8, step=1)\n",
    "selector = selector.fit(x, y)"
   ]
  },
  {
   "cell_type": "code",
   "execution_count": null,
   "metadata": {
    "id": "29QRB4kNE9uy",
    "outputId": "7512b6c7-9469-4334-e999-ff52d060747c"
   },
   "outputs": [
    {
     "name": "stdout",
     "output_type": "stream",
     "text": [
      "Mask data:  [ True  True  True  True]\n",
      "Ranking:  [1 1 1 1]\n"
     ]
    }
   ],
   "source": [
    "filter = selector.support_\n",
    "ranking = selector.ranking_\n",
    "\n",
    "print(\"Mask data: \", filter)\n",
    "print(\"Ranking: \", ranking)"
   ]
  },
  {
   "cell_type": "code",
   "execution_count": null,
   "metadata": {
    "id": "-J6HBakkE9uy",
    "outputId": "e1f77249-03eb-41e8-d84b-43bcb0e2f195"
   },
   "outputs": [
    {
     "data": {
      "text/plain": [
       "array([0.60512929, 0.02117796, 0.12540622, 0.24828653])"
      ]
     },
     "execution_count": 172,
     "metadata": {},
     "output_type": "execute_result"
    }
   ],
   "source": [
    "selector.estimator_.feature_importances_"
   ]
  },
  {
   "cell_type": "code",
   "execution_count": null,
   "metadata": {
    "id": "78kuX_FpE9uz",
    "outputId": "55198fdc-78b2-4c40-9c8b-6a0bfb138a06"
   },
   "outputs": [
    {
     "name": "stdout",
     "output_type": "stream",
     "text": [
      "All features:\n",
      "['Mileage' 'City' 'Make' 'Model']\n",
      "Selected features:\n",
      "['Mileage' 'City' 'Make' 'Model']\n"
     ]
    }
   ],
   "source": [
    "features = array(x.columns)\n",
    "print(\"All features:\")\n",
    "print(features)\n",
    "\n",
    "print(\"Selected features:\")\n",
    "print(features[filter])"
   ]
  },
  {
   "cell_type": "markdown",
   "metadata": {
    "id": "0cef900c"
   },
   "source": [
    "# Model Building"
   ]
  },
  {
   "cell_type": "markdown",
   "metadata": {
    "id": "016b8d67"
   },
   "source": [
    "Here, Building two models for Predicting House Price for Real Estate Agency.\n",
    "               1)LinearRegression\n",
    "               2)Random Forest"
   ]
  },
  {
   "cell_type": "code",
   "execution_count": null,
   "metadata": {
    "id": "5b57ca4e"
   },
   "outputs": [],
   "source": [
    "#Splitting the dependant and independant features\n",
    "Y = df.Price  \n",
    "X = df[['Mileage','City', 'Make', 'Model']]"
   ]
  },
  {
   "cell_type": "code",
   "execution_count": null,
   "metadata": {
    "id": "b7e32094"
   },
   "outputs": [],
   "source": [
    "#train_test_split\n",
    "from sklearn.model_selection import train_test_split\n",
    "X_train, X_test, y_train, y_test = train_test_split(X, Y, test_size = 0.3, random_state = 0)"
   ]
  },
  {
   "cell_type": "code",
   "execution_count": null,
   "metadata": {
    "id": "49826ad7"
   },
   "outputs": [],
   "source": [
    "from sklearn.preprocessing import StandardScaler\n",
    "sc_X = StandardScaler()\n",
    "X_train = sc_X.fit_transform(X_train)\n",
    "X_test = sc_X.transform(X_test)"
   ]
  },
  {
   "cell_type": "code",
   "execution_count": null,
   "metadata": {
    "id": "nt67oxy2E9u1"
   },
   "outputs": [],
   "source": []
  },
  {
   "cell_type": "markdown",
   "metadata": {
    "id": "fb950937"
   },
   "source": [
    "# Linear Regression"
   ]
  },
  {
   "cell_type": "code",
   "execution_count": null,
   "metadata": {
    "id": "00cec7b6"
   },
   "outputs": [],
   "source": [
    "# Fitting the Linear Regression Model to the dataset\n",
    "from sklearn.linear_model import LinearRegression\n",
    "regressor = LinearRegression()"
   ]
  },
  {
   "cell_type": "code",
   "execution_count": null,
   "metadata": {
    "id": "2d75b70c",
    "outputId": "eb62e18d-8bc1-4ab1-e50b-a22730333bd8"
   },
   "outputs": [
    {
     "data": {
      "text/plain": [
       "LinearRegression()"
      ]
     },
     "execution_count": 178,
     "metadata": {},
     "output_type": "execute_result"
    }
   ],
   "source": [
    "# Fitting the regressor to our training set\n",
    "regressor.fit(X_train, y_train)"
   ]
  },
  {
   "cell_type": "code",
   "execution_count": null,
   "metadata": {
    "id": "065b5b71"
   },
   "outputs": [],
   "source": [
    "#Predicting the x_test\n",
    "Y_pred = regressor.predict(X_test)"
   ]
  },
  {
   "cell_type": "code",
   "execution_count": null,
   "metadata": {
    "id": "f7c95ac6",
    "outputId": "d3680e8a-87dd-4df0-a422-082c6c6f3cb6"
   },
   "outputs": [
    {
     "name": "stdout",
     "output_type": "stream",
     "text": [
      "MAE: 7633.404318138757\n",
      "MSE: 135220729.22131345\n",
      "RMSE: 11628.444832449155\n"
     ]
    }
   ],
   "source": [
    "#Regression Evaluation(Error) Metrics\n",
    "from sklearn import metrics\n",
    "print('MAE:' , metrics.mean_absolute_error(y_test,Y_pred))\n",
    "print('MSE:' , metrics.mean_squared_error(y_test,Y_pred))\n",
    "print('RMSE:' ,np.sqrt(metrics.mean_squared_error(y_test,Y_pred)))"
   ]
  },
  {
   "cell_type": "code",
   "execution_count": null,
   "metadata": {
    "id": "e714179a",
    "outputId": "b29ef3d4-980f-4123-8a21-0c7b2d52724f"
   },
   "outputs": [
    {
     "name": "stdout",
     "output_type": "stream",
     "text": [
      "0.2047587237206263\n"
     ]
    }
   ],
   "source": [
    "# R2 Error\n",
    "from sklearn.metrics import r2_score\n",
    "Linear_score = r2_score(y_test, Y_pred)\n",
    "print(r2_score(y_test, Y_pred))"
   ]
  },
  {
   "cell_type": "code",
   "execution_count": null,
   "metadata": {
    "id": "fa7b9605",
    "outputId": "c4ed88cd-1475-4f81-b84d-c68928332089"
   },
   "outputs": [
    {
     "name": "stdout",
     "output_type": "stream",
     "text": [
      "0.2022466777648219\n",
      "0.005524453983926896\n"
     ]
    }
   ],
   "source": [
    "# Finally Lets Apply k-Fold Cross Validation to see how our model has performed\n",
    "from sklearn.model_selection import cross_val_score\n",
    "accuracies = cross_val_score(estimator = regressor, X = X_train, y = y_train, cv = 10)\n",
    "print(accuracies.mean())\n",
    "print(accuracies.std())"
   ]
  },
  {
   "cell_type": "markdown",
   "metadata": {
    "id": "CzZmIIMQE9u5"
   },
   "source": [
    "### Random Forest"
   ]
  },
  {
   "cell_type": "code",
   "execution_count": null,
   "metadata": {
    "id": "k3DBno_TE9u6"
   },
   "outputs": [],
   "source": [
    "# Fitting the Random Foresr Regressor Model to the dataset\n",
    "from sklearn.ensemble import RandomForestRegressor\n",
    "RF_regressor = RandomForestRegressor(random_state = 0) "
   ]
  },
  {
   "cell_type": "code",
   "execution_count": null,
   "metadata": {
    "colab": {
     "base_uri": "https://localhost:8080/"
    },
    "id": "YTol05RvN4j8",
    "outputId": "89138f76-23e3-4ca1-8622-fba3810900dd",
    "scrolled": true
   },
   "outputs": [
    {
     "data": {
      "text/plain": [
       "RandomForestRegressor(random_state=0)"
      ]
     },
     "execution_count": 9,
     "metadata": {},
     "output_type": "execute_result"
    }
   ],
   "source": [
    "RF_regressor.fit(X_train, y_train) "
   ]
  },
  {
   "cell_type": "code",
   "execution_count": null,
   "metadata": {
    "id": "HDcMN1vzE9u7"
   },
   "outputs": [],
   "source": [
    "# Fitting the regressor to our training set\n",
    "RF_regressor.fit(X_train, y_train)"
   ]
  },
  {
   "cell_type": "code",
   "execution_count": null,
   "metadata": {
    "id": "JyRi3dknE9u7"
   },
   "outputs": [],
   "source": [
    "#Predicting the x_test\n",
    "Y_pred = RF_regressor.predict(X_test)"
   ]
  },
  {
   "cell_type": "code",
   "execution_count": null,
   "metadata": {
    "colab": {
     "base_uri": "https://localhost:8080/"
    },
    "id": "8JEJiihhTnoI",
    "outputId": "fe102e26-5550-44bd-faf2-93170db07bcd"
   },
   "outputs": [
    {
     "name": "stdout",
     "output_type": "stream",
     "text": [
      "MAE: 2763.8853682490517\n",
      "MSE: 22966146.098993354\n",
      "RMSE: 4792.300710409704\n",
      "R^2: 0.8649347075692051\n"
     ]
    }
   ],
   "source": [
    "#Regression Evaluation Metrics\n",
    "from sklearn import metrics\n",
    "print('MAE:' , metrics.mean_absolute_error(y_test,Y_pred))\n",
    "print('MSE:' , metrics.mean_squared_error(y_test,Y_pred))\n",
    "print('RMSE:' ,np.sqrt(metrics.mean_squared_error(y_test,Y_pred)))\n",
    "print('R^2:',metrics.r2_score(y_test,Y_pred))"
   ]
  },
  {
   "cell_type": "code",
   "execution_count": null,
   "metadata": {
    "id": "n5ePao0ATjUT"
   },
   "outputs": [],
   "source": [
    "RF_score = metrics.r2_score(y_test,Y_pred)"
   ]
  },
  {
   "cell_type": "code",
   "execution_count": null,
   "metadata": {
    "id": "AuU2JMC9E9u8"
   },
   "outputs": [],
   "source": [
    "# Finally Lets Apply k-Fold Cross Validation to see how our model has performed\n",
    "from sklearn.model_selection import cross_val_score\n",
    "accuracies = cross_val_score(estimator = RF_regressor, X = X_train, y = y_train, cv = 10)\n",
    "print(accuracies.mean())\n",
    "print(accuracies.std())"
   ]
  },
  {
   "cell_type": "markdown",
   "metadata": {
    "id": "NwqNhjbLE9u8"
   },
   "source": [
    "### xgboost"
   ]
  },
  {
   "cell_type": "code",
   "execution_count": null,
   "metadata": {
    "id": "EmSiju4AE9u9",
    "outputId": "48b15411-3dc1-41f3-ff35-5b1b846f066e"
   },
   "outputs": [
    {
     "data": {
      "text/plain": [
       "XGBRegressor(base_score=0.5, booster='gbtree', colsample_bylevel=1,\n",
       "             colsample_bynode=1, colsample_bytree=1, gamma=0, gpu_id=-1,\n",
       "             importance_type='gain', interaction_constraints='',\n",
       "             learning_rate=0.300000012, max_delta_step=0, max_depth=6,\n",
       "             min_child_weight=1, missing=nan, monotone_constraints='()',\n",
       "             n_estimators=100, n_jobs=4, num_parallel_tree=1, random_state=0,\n",
       "             reg_alpha=0, reg_lambda=1, scale_pos_weight=1, subsample=1,\n",
       "             tree_method='exact', validate_parameters=1, verbosity=None)"
      ]
     },
     "execution_count": 184,
     "metadata": {},
     "output_type": "execute_result"
    }
   ],
   "source": [
    "# Fitting the XGboost Regressor Model to the dataset\n",
    "from xgboost import XGBRegressor\n",
    "Xgboost_Reg=XGBRegressor()\n",
    "\n",
    "# Fitting the regressor to our training set\n",
    "Xgboost_Reg.fit(X_train,y_train)"
   ]
  },
  {
   "cell_type": "code",
   "execution_count": null,
   "metadata": {
    "id": "BmdXVtBLE9u9"
   },
   "outputs": [],
   "source": [
    "#Predicting the x_test\n",
    "Y_pred=Xgboost_Reg.predict(X_test)"
   ]
  },
  {
   "cell_type": "code",
   "execution_count": null,
   "metadata": {
    "id": "JnItIjKKE9u9",
    "outputId": "4c578e87-6749-4f5c-c05f-ad54ca91dfc3"
   },
   "outputs": [
    {
     "name": "stdout",
     "output_type": "stream",
     "text": [
      "MAE: 3037.960908200524\n",
      "MSE: 24972572.448990166\n",
      "RMSE: 4997.256492215521\n"
     ]
    }
   ],
   "source": [
    "#Regression Evaluation(Error) Metrics\n",
    "from sklearn import metrics\n",
    "print('MAE:' , metrics.mean_absolute_error(y_test,Y_pred))\n",
    "print('MSE:' , metrics.mean_squared_error(y_test,Y_pred))\n",
    "print('RMSE:' ,np.sqrt(metrics.mean_squared_error(y_test,Y_pred)))"
   ]
  },
  {
   "cell_type": "code",
   "execution_count": null,
   "metadata": {
    "id": "ZoaONXq7E9u-",
    "outputId": "9d60fa6c-0d5e-4083-a5ea-0c53b1b4f808"
   },
   "outputs": [
    {
     "name": "stdout",
     "output_type": "stream",
     "text": [
      "0.8531347930108347\n"
     ]
    }
   ],
   "source": [
    "# R2 Error\n",
    "from sklearn.metrics import r2_score\n",
    "Xg_score = r2_score(y_test, Y_pred)\n",
    "print(r2_score(y_test, Y_pred))"
   ]
  },
  {
   "cell_type": "code",
   "execution_count": null,
   "metadata": {
    "id": "KVaTVj_mE9u-",
    "outputId": "d95cd930-3de2-4c30-ae01-1e57aef9aef3"
   },
   "outputs": [
    {
     "name": "stdout",
     "output_type": "stream",
     "text": [
      "0.8512736547037326\n",
      "0.006814329703954938\n"
     ]
    }
   ],
   "source": [
    "# Finally Lets Apply k-Fold Cross Validation to see how our model has performed\n",
    "from sklearn.model_selection import cross_val_score\n",
    "accuracies = cross_val_score(estimator = Xgboost_Reg, X = X_train, y = y_train, cv = 10)\n",
    "print(accuracies.mean())\n",
    "print(accuracies.std())"
   ]
  },
  {
   "cell_type": "markdown",
   "metadata": {
    "id": "Pm8o9JtgE9u-"
   },
   "source": [
    "### Gradient Boost Regressor"
   ]
  },
  {
   "cell_type": "code",
   "execution_count": null,
   "metadata": {
    "id": "CGa4uOXoE9u_"
   },
   "outputs": [],
   "source": [
    "# Fitting the Gradient Boosting Regressor Model to the dataset#\n",
    "from sklearn.ensemble import GradientBoostingRegressor\n",
    "GB_Reg = GradientBoostingRegressor()"
   ]
  },
  {
   "cell_type": "code",
   "execution_count": null,
   "metadata": {
    "colab": {
     "base_uri": "https://localhost:8080/"
    },
    "id": "-wC0YXiLE9u_",
    "outputId": "b0464e30-f75e-4488-a12a-0c3784227432"
   },
   "outputs": [
    {
     "data": {
      "text/plain": [
       "GradientBoostingRegressor()"
      ]
     },
     "execution_count": 9,
     "metadata": {},
     "output_type": "execute_result"
    }
   ],
   "source": [
    "# Fitting the regressor to our training set\n",
    "GB_Reg.fit(X_train, y_train)"
   ]
  },
  {
   "cell_type": "code",
   "execution_count": null,
   "metadata": {
    "id": "1VglsimKE9u_"
   },
   "outputs": [],
   "source": [
    "#Predicting the x_test\n",
    "Y_pred = GB_Reg.predict(X_test)"
   ]
  },
  {
   "cell_type": "code",
   "execution_count": null,
   "metadata": {
    "id": "4b3li0E5E9u_",
    "outputId": "d63f37d4-0523-4e01-dff4-1eb196c9c2c5"
   },
   "outputs": [
    {
     "name": "stdout",
     "output_type": "stream",
     "text": [
      "MAE: 5255.232476606843\n",
      "MSE: 73044633.59358467\n",
      "RMSE: 8546.615329683715\n"
     ]
    }
   ],
   "source": [
    "#Regression Evaluation(Error) Metrics\n",
    "from sklearn import metrics\n",
    "print('MAE:' , metrics.mean_absolute_error(y_test,Y_pred))\n",
    "print('MSE:' , metrics.mean_squared_error(y_test,Y_pred))\n",
    "print('RMSE:' ,np.sqrt(metrics.mean_squared_error(y_test,Y_pred)))"
   ]
  },
  {
   "cell_type": "code",
   "execution_count": null,
   "metadata": {
    "id": "xp7ZogZcE9vA",
    "outputId": "f56aa92b-a00a-4661-cb2b-81368b2c9602"
   },
   "outputs": [
    {
     "name": "stdout",
     "output_type": "stream",
     "text": [
      "0.5704200977259213\n"
     ]
    }
   ],
   "source": [
    "# R2 Error\n",
    "from sklearn.metrics import r2_score\n",
    "GB_score = r2_score(y_test, Y_pred)\n",
    "print(r2_score(y_test, Y_pred))"
   ]
  },
  {
   "cell_type": "code",
   "execution_count": null,
   "metadata": {
    "colab": {
     "base_uri": "https://localhost:8080/"
    },
    "id": "998dMul6OFfW",
    "outputId": "0b1a3145-544b-4328-f436-9878b06bdf0b"
   },
   "outputs": [
    {
     "name": "stdout",
     "output_type": "stream",
     "text": [
      "0.5740500977295236\n",
      "0.0061233539839268\n"
     ]
    }
   ],
   "source": [
    "# Finally Lets Apply k-Fold Cross Validation to see how our model has performed\n",
    "from sklearn.model_selection import cross_val_score\n",
    "accuracies = cross_val_score(estimator = GB_Reg, X = X_train, y = y_train, cv = 10)\n",
    "print(accuracies.mean())\n",
    "print(accuracies.std())"
   ]
  },
  {
   "cell_type": "markdown",
   "metadata": {
    "id": "NpXMQvFkMC81"
   },
   "source": [
    "LightGBM"
   ]
  },
  {
   "cell_type": "code",
   "execution_count": null,
   "metadata": {
    "colab": {
     "base_uri": "https://localhost:8080/"
    },
    "id": "4sCXt6qiNIx4",
    "outputId": "14e72ae6-72d8-4885-c054-481706a20c8a"
   },
   "outputs": [
    {
     "name": "stdout",
     "output_type": "stream",
     "text": [
      "Requirement already satisfied: lightgbm in /usr/local/lib/python3.7/dist-packages (2.2.3)\n",
      "Requirement already satisfied: scikit-learn in /usr/local/lib/python3.7/dist-packages (from lightgbm) (1.0.2)\n",
      "Requirement already satisfied: numpy in /usr/local/lib/python3.7/dist-packages (from lightgbm) (1.21.5)\n",
      "Requirement already satisfied: scipy in /usr/local/lib/python3.7/dist-packages (from lightgbm) (1.4.1)\n",
      "Requirement already satisfied: joblib>=0.11 in /usr/local/lib/python3.7/dist-packages (from scikit-learn->lightgbm) (1.1.0)\n",
      "Requirement already satisfied: threadpoolctl>=2.0.0 in /usr/local/lib/python3.7/dist-packages (from scikit-learn->lightgbm) (3.1.0)\n"
     ]
    }
   ],
   "source": [
    "!pip install lightgbm "
   ]
  },
  {
   "cell_type": "code",
   "execution_count": null,
   "metadata": {
    "id": "T7o51HSoMKqm"
   },
   "outputs": [],
   "source": [
    "# Fitting the Gradient Boosting Regressor Model to the dataset#\n",
    "import lightgbm as lgb\n",
    "GMB_Reg = lgb.LGBMRegressor()"
   ]
  },
  {
   "cell_type": "code",
   "execution_count": null,
   "metadata": {
    "colab": {
     "base_uri": "https://localhost:8080/"
    },
    "id": "ML0c51LdOO3Q",
    "outputId": "33789349-aeaf-4c38-c9c0-cc560275c8bd"
   },
   "outputs": [
    {
     "data": {
      "text/plain": [
       "LGBMRegressor()"
      ]
     },
     "execution_count": 16,
     "metadata": {},
     "output_type": "execute_result"
    }
   ],
   "source": [
    "# Fitting the regressor to our training set\n",
    "GMB_Reg.fit(X_train, y_train)"
   ]
  },
  {
   "cell_type": "code",
   "execution_count": null,
   "metadata": {
    "id": "XBlWaQlcOPsT"
   },
   "outputs": [],
   "source": [
    "#Predicting the x_test\n",
    "Y_pred = GMB_Reg.predict(X_test)"
   ]
  },
  {
   "cell_type": "code",
   "execution_count": null,
   "metadata": {
    "colab": {
     "base_uri": "https://localhost:8080/"
    },
    "id": "5UCLSo4EOPvw",
    "outputId": "fc782e1d-5f1e-4a58-e103-801f3ccbc462"
   },
   "outputs": [
    {
     "name": "stdout",
     "output_type": "stream",
     "text": [
      "MAE: 3759.146579601457\n",
      "MSE: 37624247.19587121\n",
      "RMSE: 6133.860708874241\n"
     ]
    }
   ],
   "source": [
    "#Regression Evaluation(Error) Metrics\n",
    "from sklearn import metrics\n",
    "print('MAE:' , metrics.mean_absolute_error(y_test,Y_pred))\n",
    "print('MSE:' , metrics.mean_squared_error(y_test,Y_pred))\n",
    "print('RMSE:' ,np.sqrt(metrics.mean_squared_error(y_test,Y_pred)))"
   ]
  },
  {
   "cell_type": "code",
   "execution_count": null,
   "metadata": {
    "colab": {
     "base_uri": "https://localhost:8080/"
    },
    "id": "qb0NSBgIOfRj",
    "outputId": "154e78b9-c93d-4a6d-dfa6-fa71c8dab754"
   },
   "outputs": [
    {
     "name": "stdout",
     "output_type": "stream",
     "text": [
      "0.7787295296261483\n"
     ]
    }
   ],
   "source": [
    "# R2 Error\n",
    "from sklearn.metrics import r2_score\n",
    "GB_score = r2_score(y_test, Y_pred)\n",
    "print(r2_score(y_test, Y_pred))"
   ]
  },
  {
   "cell_type": "markdown",
   "metadata": {
    "id": "5kam6O_n8Fmx"
   },
   "source": [
    "Linear Regression + Kmeans"
   ]
  },
  {
   "cell_type": "code",
   "execution_count": null,
   "metadata": {
    "id": "mC6Kdr94dPct"
   },
   "outputs": [],
   "source": [
    "from sklearn.cluster import KMeans"
   ]
  },
  {
   "cell_type": "code",
   "execution_count": null,
   "metadata": {
    "colab": {
     "background_save": true
    },
    "id": "o3VO6238dat1",
    "outputId": "4cf48ed4-835c-467c-8d30-28ebcb73211c"
   },
   "outputs": [
    {
     "data": {
      "image/png": "[encoded data removed]",
      "text/plain": [
       "<Figure size 864x576 with 1 Axes>"
      ]
     },
     "metadata": {},
     "output_type": "display_data"
    }
   ],
   "source": [
    "sse = {}\n",
    "\n",
    "# Fit KMeans and calculate SSE for each k\n",
    "for k in range(1, 21):\n",
    "  \n",
    "    # Initialize KMeans with k clusters\n",
    "    kmeans = KMeans(n_clusters=k, random_state=0)\n",
    "    \n",
    "    # Fit KMeans on the normalized dataset\n",
    "    kmeans.fit(X_train)\n",
    "    \n",
    "    # Assign sum of squared distances to k element of dictionary\n",
    "    sse[k] = kmeans.inertia_\n",
    "\n",
    "\n",
    "plt.figure(figsize=(12,8))\n",
    "\n",
    "plt.title('The Elbow Method')\n",
    "plt.xlabel('k'); \n",
    "plt.ylabel('Sum of squared errors')\n",
    "sns.pointplot(x=list(sse.keys()), y=list(sse.values()))\n",
    "plt.show()"
   ]
  },
  {
   "cell_type": "code",
   "execution_count": null,
   "metadata": {
    "colab": {
     "base_uri": "https://localhost:8080/"
    },
    "id": "gWH9MoEYdn3q",
    "outputId": "20435f86-2812-4cef-8f12-313548f72159"
   },
   "outputs": [
    {
     "data": {
      "text/plain": [
       "KMeans(n_clusters=3, random_state=0)"
      ]
     },
     "execution_count": 21,
     "metadata": {},
     "output_type": "execute_result"
    }
   ],
   "source": [
    "#Let us take k = 5 first\n",
    "\n",
    "kmeans = KMeans(n_clusters=3, random_state=0)\n",
    "\n",
    "# Compute k-means clustering on pre-processed data\n",
    "kmeans.fit(X_train)"
   ]
  },
  {
   "cell_type": "code",
   "execution_count": null,
   "metadata": {
    "id": "Tdy7Bd42hbxy"
   },
   "outputs": [],
   "source": [
    "# Extract cluster labels from labels_ attribute\n",
    "cluster_labels = kmeans.labels_"
   ]
  },
  {
   "cell_type": "code",
   "execution_count": null,
   "metadata": {
    "id": "EpiLslC-hezb"
   },
   "outputs": [],
   "source": [
    "# Generate out clusters\n",
    "train_cluster = kmeans.predict(X_train)"
   ]
  },
  {
   "cell_type": "code",
   "execution_count": null,
   "metadata": {
    "id": "UbD2fYLMhiG7"
   },
   "outputs": [],
   "source": [
    "train_df = pd.DataFrame(X_train,columns=['Mileage','City','Make', 'Model'])"
   ]
  },
  {
   "cell_type": "code",
   "execution_count": null,
   "metadata": {
    "id": "2NpEf__xh0Ud"
   },
   "outputs": [],
   "source": [
    "# Add the target and predicted clusters to our training DataFrame\n",
    "train_df.insert(4,'Price',y_train) \n",
    "train_df.insert(5,'cluster',train_cluster) \n",
    "n_clusters=3\n",
    "train_clusters_df = []\n",
    "for i in range(n_clusters):\n",
    "    train_clusters_df.append(train_df[train_df['cluster']==i])"
   ]
  },
  {
   "cell_type": "code",
   "execution_count": null,
   "metadata": {
    "id": "cOQ6Fkp2iGCQ"
   },
   "outputs": [],
   "source": [
    "n_clusters=3\n",
    "cluster_Linear = []\n",
    "\n",
    "# Fitting the Linear Regression Model to the dataset\n",
    "from sklearn.linear_model import LinearRegression\n",
    "model  = LinearRegression()"
   ]
  },
  {
   "cell_type": "code",
   "execution_count": null,
   "metadata": {
    "id": "jm_j1X6LikBC"
   },
   "outputs": [],
   "source": [
    "for i in range(n_clusters):\n",
    "    cluster_X = np.array((train_clusters_df[i])[['Mileage','City','Make', 'Model']])\n",
    "    cluster_Y = (train_clusters_df[i])['Price'].values\n",
    "    cluster_Linear.append(model.fit(cluster_X, cluster_Y))"
   ]
  },
  {
   "cell_type": "code",
   "execution_count": null,
   "metadata": {
    "id": "69ogucWxZCcA"
   },
   "outputs": [],
   "source": [
    "def regression_function(arr, kmeans, cluster_Linear):\n",
    "    result = []\n",
    "    clusters_pred = kmeans.predict(arr)\n",
    "    for i,data in enumerate(arr):\n",
    "        result.append(((cluster_Linear[clusters_pred[i]]).predict([data]))[0])\n",
    "    return result,clusters_pred"
   ]
  },
  {
   "cell_type": "code",
   "execution_count": null,
   "metadata": {
    "id": "NG0ngm6wZRpC"
   },
   "outputs": [],
   "source": [
    "# calculating Y value and cluster\n",
    "Y_linear_k_means_pred, Y_clusters = regression_function(X_test.to_numpy(),kmeans, cluster_Linear)"
   ]
  },
  {
   "cell_type": "code",
   "execution_count": null,
   "metadata": {
    "id": "CAEU1RCoZtTy"
   },
   "outputs": [],
   "source": [
    "# Apply our model to clustering the remaining test set for validation\n",
    "\n",
    "for i in range(n_clusters):\n",
    "  subset = []\n",
    "  for count,row in enumerate(X_test):\n",
    "      if(Y_clusters[count]==i):\n",
    "        subset.append(row)\n"
   ]
  },
  {
   "cell_type": "code",
   "execution_count": null,
   "metadata": {
    "colab": {
     "base_uri": "https://localhost:8080/",
     "height": 206
    },
    "id": "Z2iQq7ROZvjd",
    "outputId": "b76da8ff-601b-45ca-c84e-75201991df46"
   },
   "outputs": [
    {
     "data": {
      "text/html": [
       "\n",
       "  <div id=\"df-c8d15d17-b6b4-4eed-8a8f-47ad5b4e5c7f\">\n",
       "    <div class=\"colab-df-container\">\n",
       "      <div>\n",
       "<style scoped>\n",
       "    .dataframe tbody tr th:only-of-type {\n",
       "        vertical-align: middle;\n",
       "    }\n",
       "\n",
       "    .dataframe tbody tr th {\n",
       "        vertical-align: top;\n",
       "    }\n",
       "\n",
       "    .dataframe thead th {\n",
       "        text-align: right;\n",
       "    }\n",
       "</style>\n",
       "<table border=\"1\" class=\"dataframe\">\n",
       "  <thead>\n",
       "    <tr style=\"text-align: right;\">\n",
       "      <th></th>\n",
       "      <th>Mileage</th>\n",
       "      <th>City</th>\n",
       "      <th>Make</th>\n",
       "      <th>Model</th>\n",
       "      <th>Y true value</th>\n",
       "      <th>Y Linear + K means</th>\n",
       "      <th>cluster</th>\n",
       "    </tr>\n",
       "  </thead>\n",
       "  <tbody>\n",
       "    <tr>\n",
       "      <th>112539</th>\n",
       "      <td>94771</td>\n",
       "      <td>757</td>\n",
       "      <td>9</td>\n",
       "      <td>461</td>\n",
       "      <td>14995</td>\n",
       "      <td>12199.802153</td>\n",
       "      <td>0</td>\n",
       "    </tr>\n",
       "    <tr>\n",
       "      <th>698400</th>\n",
       "      <td>129588</td>\n",
       "      <td>844</td>\n",
       "      <td>15</td>\n",
       "      <td>1075</td>\n",
       "      <td>22990</td>\n",
       "      <td>10747.895707</td>\n",
       "      <td>2</td>\n",
       "    </tr>\n",
       "    <tr>\n",
       "      <th>671663</th>\n",
       "      <td>153944</td>\n",
       "      <td>620</td>\n",
       "      <td>15</td>\n",
       "      <td>1204</td>\n",
       "      <td>4999</td>\n",
       "      <td>9570.584746</td>\n",
       "      <td>2</td>\n",
       "    </tr>\n",
       "    <tr>\n",
       "      <th>556565</th>\n",
       "      <td>35958</td>\n",
       "      <td>113</td>\n",
       "      <td>11</td>\n",
       "      <td>563</td>\n",
       "      <td>17995</td>\n",
       "      <td>15710.079876</td>\n",
       "      <td>1</td>\n",
       "    </tr>\n",
       "    <tr>\n",
       "      <th>776175</th>\n",
       "      <td>140188</td>\n",
       "      <td>1700</td>\n",
       "      <td>20</td>\n",
       "      <td>1985</td>\n",
       "      <td>9995</td>\n",
       "      <td>10967.242636</td>\n",
       "      <td>2</td>\n",
       "    </tr>\n",
       "  </tbody>\n",
       "</table>\n",
       "</div>\n",
       "      <button class=\"colab-df-convert\" onclick=\"convertToInteractive('df-c8d15d17-b6b4-4eed-8a8f-47ad5b4e5c7f')\"\n",
       "              title=\"Convert this dataframe to an interactive table.\"\n",
       "              style=\"display:none;\">\n",
       "        \n",
       "  <svg xmlns=\"http://www.w3.org/2000/svg\" height=\"24px\"viewBox=\"0 0 24 24\"\n",
       "       width=\"24px\">\n",
       "    <path d=\"M0 0h24v24H0V0z\" fill=\"none\"/>\n",
       "    <path d=\"M18.56 5.44l.94 2.06.94-2.06 2.06-.94-2.06-.94-.94-2.06-.94 2.06-2.06.94zm-11 1L8.5 8.5l.94-2.06 2.06-.94-2.06-.94L8.5 2.5l-.94 2.06-2.06.94zm10 10l.94 2.06.94-2.06 2.06-.94-2.06-.94-.94-2.06-.94 2.06-2.06.94z\"/><path d=\"M17.41 7.96l-1.37-1.37c-.4-.4-.92-.59-1.43-.59-.52 0-1.04.2-1.43.59L10.3 9.45l-7.72 7.72c-.78.78-.78 2.05 0 2.83L4 21.41c.39.39.9.59 1.41.59.51 0 1.02-.2 1.41-.59l7.78-7.78 2.81-2.81c.8-.78.8-2.07 0-2.86zM5.41 20L4 18.59l7.72-7.72 1.47 1.35L5.41 20z\"/>\n",
       "  </svg>\n",
       "      </button>\n",
       "      \n",
       "  <style>\n",
       "    .colab-df-container {\n",
       "      display:flex;\n",
       "      flex-wrap:wrap;\n",
       "      gap: 12px;\n",
       "    }\n",
       "\n",
       "    .colab-df-convert {\n",
       "      background-color: #E8F0FE;\n",
       "      border: none;\n",
       "      border-radius: 50%;\n",
       "      cursor: pointer;\n",
       "      display: none;\n",
       "      fill: #1967D2;\n",
       "      height: 32px;\n",
       "      padding: 0 0 0 0;\n",
       "      width: 32px;\n",
       "    }\n",
       "\n",
       "    .colab-df-convert:hover {\n",
       "      background-color: #E2EBFA;\n",
       "      box-shadow: 0px 1px 2px rgba(60, 64, 67, 0.3), 0px 1px 3px 1px rgba(60, 64, 67, 0.15);\n",
       "      fill: #174EA6;\n",
       "    }\n",
       "\n",
       "    [theme=dark] .colab-df-convert {\n",
       "      background-color: #3B4455;\n",
       "      fill: #D2E3FC;\n",
       "    }\n",
       "\n",
       "    [theme=dark] .colab-df-convert:hover {\n",
       "      background-color: #434B5C;\n",
       "      box-shadow: 0px 1px 3px 1px rgba(0, 0, 0, 0.15);\n",
       "      filter: drop-shadow(0px 1px 2px rgba(0, 0, 0, 0.3));\n",
       "      fill: #FFFFFF;\n",
       "    }\n",
       "  </style>\n",
       "\n",
       "      <script>\n",
       "        const buttonEl =\n",
       "          document.querySelector('#df-c8d15d17-b6b4-4eed-8a8f-47ad5b4e5c7f button.colab-df-convert');\n",
       "        buttonEl.style.display =\n",
       "          google.colab.kernel.accessAllowed ? 'block' : 'none';\n",
       "\n",
       "        async function convertToInteractive(key) {\n",
       "          const element = document.querySelector('#df-c8d15d17-b6b4-4eed-8a8f-47ad5b4e5c7f');\n",
       "          const dataTable =\n",
       "            await google.colab.kernel.invokeFunction('convertToInteractive',\n",
       "                                                     [key], {});\n",
       "          if (!dataTable) return;\n",
       "\n",
       "          const docLinkHtml = 'Like what you see? Visit the ' +\n",
       "            '<a target=\"_blank\" href=https://colab.research.google.com/notebooks/data_table.ipynb>data table notebook</a>'\n",
       "            + ' to learn more about interactive tables.';\n",
       "          element.innerHTML = '';\n",
       "          dataTable['output_type'] = 'display_data';\n",
       "          await google.colab.output.renderOutput(dataTable, element);\n",
       "          const docLink = document.createElement('div');\n",
       "          docLink.innerHTML = docLinkHtml;\n",
       "          element.appendChild(docLink);\n",
       "        }\n",
       "      </script>\n",
       "    </div>\n",
       "  </div>\n",
       "  "
      ],
      "text/plain": [
       "        Mileage  City  Make  Model  Y true value  Y Linear + K means  cluster\n",
       "112539    94771   757     9    461         14995        12199.802153        0\n",
       "698400   129588   844    15   1075         22990        10747.895707        2\n",
       "671663   153944   620    15   1204          4999         9570.584746        2\n",
       "556565    35958   113    11    563         17995        15710.079876        1\n",
       "776175   140188  1700    20   1985          9995        10967.242636        2"
      ]
     },
     "execution_count": 34,
     "metadata": {},
     "output_type": "execute_result"
    }
   ],
   "source": [
    "result_df = pd.DataFrame(X_test,columns=['Mileage','City','Make', 'Model'])\n",
    "result_df['Y true value'] =  y_test\n",
    "result_df['Y Linear + K means'] = Y_linear_k_means_pred\n",
    "result_df['cluster'] = Y_clusters\n",
    "result_df.head()"
   ]
  },
  {
   "cell_type": "markdown",
   "metadata": {
    "id": "1ENTYonS8Mxm"
   },
   "source": [
    "Result"
   ]
  },
  {
   "cell_type": "markdown",
   "metadata": {
    "id": "vQo7jad6Pq6I"
   },
   "source": [
    "By comparing the R2 score for all models, Random forest gives the better prediction."
   ]
  }
 ],
 "metadata": {
  "colab": {
   "collapsed_sections": [
    "5LCDu-FwE9uG",
    "3OcPPSRmE9ug",
    "RYPCWwjQE9ug",
    "0soza6iwE9uh",
    "1ec5c5a2",
    "1736fe63",
    "3AneCBHmE9uk"
   ],
   "name": "Thenmozhi _Final_Model Building for Used Car Price Prediction.ipynb",
   "provenance": []
  },
  "kernelspec": {
   "display_name": "Python 3",
   "language": "python",
   "name": "python3"
  },
  "language_info": {
   "codemirror_mode": {
    "name": "ipython",
    "version": 3
   },
   "file_extension": ".py",
   "mimetype": "text/x-python",
   "name": "python",
   "nbconvert_exporter": "python",
   "pygments_lexer": "ipython3",
   "version": "3.8.8"
  },
  "varInspector": {
   "cols": {
    "lenName": 16,
    "lenType": 16,
    "lenVar": 40
   },
   "kernels_config": {
    "python": {
     "delete_cmd_postfix": "",
     "delete_cmd_prefix": "del ",
     "library": "var_list.py",
     "varRefreshCmd": "print(var_dic_list())"
    },
    "r": {
     "delete_cmd_postfix": ") ",
     "delete_cmd_prefix": "rm(",
     "library": "var_list.r",
     "varRefreshCmd": "cat(var_dic_list()) "
    }
   },
   "types_to_exclude": [
    "module",
    "function",
    "builtin_function_or_method",
    "instance",
    "_Feature"
   ],
   "window_display": false
  }
 },
 "nbformat": 4,
 "nbformat_minor": 1
}
